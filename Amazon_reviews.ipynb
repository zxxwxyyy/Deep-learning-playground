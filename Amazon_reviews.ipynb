{
  "cells": [
    {
      "cell_type": "markdown",
      "id": "54d6e577-33c9-4e99-889b-2e32da32014d",
      "metadata": {
        "id": "54d6e577-33c9-4e99-889b-2e32da32014d"
      },
      "source": [
        "# Amazon Reviews Sentiment Analysis\n",
        "\n",
        "**Goal**\n",
        "\n",
        "Analyze the sentiments from the given dataset of Amazon\n",
        "\n",
        "**Dataset**\n",
        "\n",
        "The dataset is collected from the following link https://www.kaggle.com/datasets/tarkkaanko/amazon\n",
        "\n",
        "**Description**\n",
        "\n",
        "One of the most important problems in e-commerce is the correct calculation of the points given to after-sales products. The solution to this problem is to provide greater customer satisfaction for the e-commerce site, product prominence for sellers, and a seamless shopping experience for buyers. Another problem is the correct ordering of the comments given to the products. The prominence of misleading comments will cause both financial losses and customer losses. In solving these 2 basic problems, e-commerce site and sellers will increase their sales, while customers will complete their purchasing journey without any problems.\n",
        "\n",
        "This dataset consists of ranking product ratings and reviews on Amazon.\n",
        "\n",
        "A practice project from https://github.com/World-of-ML/DL-Simplified\n",
        "\n"
      ]
    },
    {
      "cell_type": "markdown",
      "id": "321b31c6-d174-42f7-8030-258193c4eef2",
      "metadata": {
        "id": "321b31c6-d174-42f7-8030-258193c4eef2"
      },
      "source": [
        "## Preprocess data"
      ]
    },
    {
      "cell_type": "code",
      "execution_count": 2,
      "id": "884f1df2-4a32-4156-adfe-4c280443d2ba",
      "metadata": {
        "tags": [],
        "colab": {
          "base_uri": "https://localhost:8080/",
          "height": 206
        },
        "id": "884f1df2-4a32-4156-adfe-4c280443d2ba",
        "outputId": "59daf74f-4d3e-4691-ca74-55b80eb9f594"
      },
      "outputs": [
        {
          "output_type": "execute_result",
          "data": {
            "text/plain": [
              "   Unnamed: 0  reviewerName  overall  \\\n",
              "0           0           NaN      4.0   \n",
              "1           1          0mie      5.0   \n",
              "2           2           1K3      4.0   \n",
              "3           3           1m2      5.0   \n",
              "4           4  2&amp;1/2Men      5.0   \n",
              "\n",
              "                                          reviewText  reviewTime  day_diff  \\\n",
              "0                                         No issues.  2014-07-23       138   \n",
              "1  Purchased this for my device, it worked as adv...  2013-10-25       409   \n",
              "2  it works as expected. I should have sprung for...  2012-12-23       715   \n",
              "3  This think has worked out great.Had a diff. br...  2013-11-21       382   \n",
              "4  Bought it with Retail Packaging, arrived legit...  2013-07-13       513   \n",
              "\n",
              "   helpful_yes  helpful_no  total_vote  score_pos_neg_diff  \\\n",
              "0            0           0           0                   0   \n",
              "1            0           0           0                   0   \n",
              "2            0           0           0                   0   \n",
              "3            0           0           0                   0   \n",
              "4            0           0           0                   0   \n",
              "\n",
              "   score_average_rating  wilson_lower_bound  \n",
              "0                   0.0                 0.0  \n",
              "1                   0.0                 0.0  \n",
              "2                   0.0                 0.0  \n",
              "3                   0.0                 0.0  \n",
              "4                   0.0                 0.0  "
            ],
            "text/html": [
              "\n",
              "  <div id=\"df-1a23d67b-3113-47cd-8165-2aae26ec0ac6\">\n",
              "    <div class=\"colab-df-container\">\n",
              "      <div>\n",
              "<style scoped>\n",
              "    .dataframe tbody tr th:only-of-type {\n",
              "        vertical-align: middle;\n",
              "    }\n",
              "\n",
              "    .dataframe tbody tr th {\n",
              "        vertical-align: top;\n",
              "    }\n",
              "\n",
              "    .dataframe thead th {\n",
              "        text-align: right;\n",
              "    }\n",
              "</style>\n",
              "<table border=\"1\" class=\"dataframe\">\n",
              "  <thead>\n",
              "    <tr style=\"text-align: right;\">\n",
              "      <th></th>\n",
              "      <th>Unnamed: 0</th>\n",
              "      <th>reviewerName</th>\n",
              "      <th>overall</th>\n",
              "      <th>reviewText</th>\n",
              "      <th>reviewTime</th>\n",
              "      <th>day_diff</th>\n",
              "      <th>helpful_yes</th>\n",
              "      <th>helpful_no</th>\n",
              "      <th>total_vote</th>\n",
              "      <th>score_pos_neg_diff</th>\n",
              "      <th>score_average_rating</th>\n",
              "      <th>wilson_lower_bound</th>\n",
              "    </tr>\n",
              "  </thead>\n",
              "  <tbody>\n",
              "    <tr>\n",
              "      <th>0</th>\n",
              "      <td>0</td>\n",
              "      <td>NaN</td>\n",
              "      <td>4.0</td>\n",
              "      <td>No issues.</td>\n",
              "      <td>2014-07-23</td>\n",
              "      <td>138</td>\n",
              "      <td>0</td>\n",
              "      <td>0</td>\n",
              "      <td>0</td>\n",
              "      <td>0</td>\n",
              "      <td>0.0</td>\n",
              "      <td>0.0</td>\n",
              "    </tr>\n",
              "    <tr>\n",
              "      <th>1</th>\n",
              "      <td>1</td>\n",
              "      <td>0mie</td>\n",
              "      <td>5.0</td>\n",
              "      <td>Purchased this for my device, it worked as adv...</td>\n",
              "      <td>2013-10-25</td>\n",
              "      <td>409</td>\n",
              "      <td>0</td>\n",
              "      <td>0</td>\n",
              "      <td>0</td>\n",
              "      <td>0</td>\n",
              "      <td>0.0</td>\n",
              "      <td>0.0</td>\n",
              "    </tr>\n",
              "    <tr>\n",
              "      <th>2</th>\n",
              "      <td>2</td>\n",
              "      <td>1K3</td>\n",
              "      <td>4.0</td>\n",
              "      <td>it works as expected. I should have sprung for...</td>\n",
              "      <td>2012-12-23</td>\n",
              "      <td>715</td>\n",
              "      <td>0</td>\n",
              "      <td>0</td>\n",
              "      <td>0</td>\n",
              "      <td>0</td>\n",
              "      <td>0.0</td>\n",
              "      <td>0.0</td>\n",
              "    </tr>\n",
              "    <tr>\n",
              "      <th>3</th>\n",
              "      <td>3</td>\n",
              "      <td>1m2</td>\n",
              "      <td>5.0</td>\n",
              "      <td>This think has worked out great.Had a diff. br...</td>\n",
              "      <td>2013-11-21</td>\n",
              "      <td>382</td>\n",
              "      <td>0</td>\n",
              "      <td>0</td>\n",
              "      <td>0</td>\n",
              "      <td>0</td>\n",
              "      <td>0.0</td>\n",
              "      <td>0.0</td>\n",
              "    </tr>\n",
              "    <tr>\n",
              "      <th>4</th>\n",
              "      <td>4</td>\n",
              "      <td>2&amp;amp;1/2Men</td>\n",
              "      <td>5.0</td>\n",
              "      <td>Bought it with Retail Packaging, arrived legit...</td>\n",
              "      <td>2013-07-13</td>\n",
              "      <td>513</td>\n",
              "      <td>0</td>\n",
              "      <td>0</td>\n",
              "      <td>0</td>\n",
              "      <td>0</td>\n",
              "      <td>0.0</td>\n",
              "      <td>0.0</td>\n",
              "    </tr>\n",
              "  </tbody>\n",
              "</table>\n",
              "</div>\n",
              "      <button class=\"colab-df-convert\" onclick=\"convertToInteractive('df-1a23d67b-3113-47cd-8165-2aae26ec0ac6')\"\n",
              "              title=\"Convert this dataframe to an interactive table.\"\n",
              "              style=\"display:none;\">\n",
              "        \n",
              "  <svg xmlns=\"http://www.w3.org/2000/svg\" height=\"24px\"viewBox=\"0 0 24 24\"\n",
              "       width=\"24px\">\n",
              "    <path d=\"M0 0h24v24H0V0z\" fill=\"none\"/>\n",
              "    <path d=\"M18.56 5.44l.94 2.06.94-2.06 2.06-.94-2.06-.94-.94-2.06-.94 2.06-2.06.94zm-11 1L8.5 8.5l.94-2.06 2.06-.94-2.06-.94L8.5 2.5l-.94 2.06-2.06.94zm10 10l.94 2.06.94-2.06 2.06-.94-2.06-.94-.94-2.06-.94 2.06-2.06.94z\"/><path d=\"M17.41 7.96l-1.37-1.37c-.4-.4-.92-.59-1.43-.59-.52 0-1.04.2-1.43.59L10.3 9.45l-7.72 7.72c-.78.78-.78 2.05 0 2.83L4 21.41c.39.39.9.59 1.41.59.51 0 1.02-.2 1.41-.59l7.78-7.78 2.81-2.81c.8-.78.8-2.07 0-2.86zM5.41 20L4 18.59l7.72-7.72 1.47 1.35L5.41 20z\"/>\n",
              "  </svg>\n",
              "      </button>\n",
              "      \n",
              "  <style>\n",
              "    .colab-df-container {\n",
              "      display:flex;\n",
              "      flex-wrap:wrap;\n",
              "      gap: 12px;\n",
              "    }\n",
              "\n",
              "    .colab-df-convert {\n",
              "      background-color: #E8F0FE;\n",
              "      border: none;\n",
              "      border-radius: 50%;\n",
              "      cursor: pointer;\n",
              "      display: none;\n",
              "      fill: #1967D2;\n",
              "      height: 32px;\n",
              "      padding: 0 0 0 0;\n",
              "      width: 32px;\n",
              "    }\n",
              "\n",
              "    .colab-df-convert:hover {\n",
              "      background-color: #E2EBFA;\n",
              "      box-shadow: 0px 1px 2px rgba(60, 64, 67, 0.3), 0px 1px 3px 1px rgba(60, 64, 67, 0.15);\n",
              "      fill: #174EA6;\n",
              "    }\n",
              "\n",
              "    [theme=dark] .colab-df-convert {\n",
              "      background-color: #3B4455;\n",
              "      fill: #D2E3FC;\n",
              "    }\n",
              "\n",
              "    [theme=dark] .colab-df-convert:hover {\n",
              "      background-color: #434B5C;\n",
              "      box-shadow: 0px 1px 3px 1px rgba(0, 0, 0, 0.15);\n",
              "      filter: drop-shadow(0px 1px 2px rgba(0, 0, 0, 0.3));\n",
              "      fill: #FFFFFF;\n",
              "    }\n",
              "  </style>\n",
              "\n",
              "      <script>\n",
              "        const buttonEl =\n",
              "          document.querySelector('#df-1a23d67b-3113-47cd-8165-2aae26ec0ac6 button.colab-df-convert');\n",
              "        buttonEl.style.display =\n",
              "          google.colab.kernel.accessAllowed ? 'block' : 'none';\n",
              "\n",
              "        async function convertToInteractive(key) {\n",
              "          const element = document.querySelector('#df-1a23d67b-3113-47cd-8165-2aae26ec0ac6');\n",
              "          const dataTable =\n",
              "            await google.colab.kernel.invokeFunction('convertToInteractive',\n",
              "                                                     [key], {});\n",
              "          if (!dataTable) return;\n",
              "\n",
              "          const docLinkHtml = 'Like what you see? Visit the ' +\n",
              "            '<a target=\"_blank\" href=https://colab.research.google.com/notebooks/data_table.ipynb>data table notebook</a>'\n",
              "            + ' to learn more about interactive tables.';\n",
              "          element.innerHTML = '';\n",
              "          dataTable['output_type'] = 'display_data';\n",
              "          await google.colab.output.renderOutput(dataTable, element);\n",
              "          const docLink = document.createElement('div');\n",
              "          docLink.innerHTML = docLinkHtml;\n",
              "          element.appendChild(docLink);\n",
              "        }\n",
              "      </script>\n",
              "    </div>\n",
              "  </div>\n",
              "  "
            ]
          },
          "metadata": {},
          "execution_count": 2
        }
      ],
      "source": [
        "import pandas as pd\n",
        "# Get the data\n",
        "data_dir = './amazon_reviews.csv'\n",
        "amazon_dt = pd.read_csv(data_dir)\n",
        "amazon_dt.head()"
      ]
    },
    {
      "cell_type": "code",
      "execution_count": 3,
      "id": "6128b2e6-4db7-4335-88e3-147e7b672b78",
      "metadata": {
        "tags": [],
        "colab": {
          "base_uri": "https://localhost:8080/"
        },
        "id": "6128b2e6-4db7-4335-88e3-147e7b672b78",
        "outputId": "da6d4a73-8985-4353-f5c1-fd52e672ec50"
      },
      "outputs": [
        {
          "output_type": "execute_result",
          "data": {
            "text/plain": [
              "0                                           No issues.\n",
              "1    Purchased this for my device, it worked as adv...\n",
              "2    it works as expected. I should have sprung for...\n",
              "3    This think has worked out great.Had a diff. br...\n",
              "4    Bought it with Retail Packaging, arrived legit...\n",
              "Name: reviewText, dtype: object"
            ]
          },
          "metadata": {},
          "execution_count": 3
        }
      ],
      "source": [
        "amazon_dt['reviewText'].head()"
      ]
    },
    {
      "cell_type": "code",
      "execution_count": 4,
      "id": "86a3fc47-395d-4d78-9a07-cc4fbd6302e4",
      "metadata": {
        "tags": [],
        "colab": {
          "base_uri": "https://localhost:8080/",
          "height": 36
        },
        "id": "86a3fc47-395d-4d78-9a07-cc4fbd6302e4",
        "outputId": "5e535a06-48a6-48e4-f185-482bed632b6d"
      },
      "outputs": [
        {
          "output_type": "execute_result",
          "data": {
            "text/plain": [
              "'Purchased this for my device, it worked as advertised. You can never have too much phone memory, since I download a lot of stuff this was a no brainer for me.'"
            ],
            "application/vnd.google.colaboratory.intrinsic+json": {
              "type": "string"
            }
          },
          "metadata": {},
          "execution_count": 4
        }
      ],
      "source": [
        "# Visualize one of the review\n",
        "amazon_dt['reviewText'][1]"
      ]
    },
    {
      "cell_type": "code",
      "execution_count": 5,
      "id": "23fa5555-f76c-4566-a8e4-ba1b896ab466",
      "metadata": {
        "tags": [],
        "colab": {
          "base_uri": "https://localhost:8080/"
        },
        "id": "23fa5555-f76c-4566-a8e4-ba1b896ab466",
        "outputId": "25ba6fe6-0443-46b7-e191-3a204597fe16"
      },
      "outputs": [
        {
          "output_type": "execute_result",
          "data": {
            "text/plain": [
              "Unnamed: 0              0\n",
              "reviewerName            1\n",
              "overall                 0\n",
              "reviewText              1\n",
              "reviewTime              0\n",
              "day_diff                0\n",
              "helpful_yes             0\n",
              "helpful_no              0\n",
              "total_vote              0\n",
              "score_pos_neg_diff      0\n",
              "score_average_rating    0\n",
              "wilson_lower_bound      0\n",
              "dtype: int64"
            ]
          },
          "metadata": {},
          "execution_count": 5
        }
      ],
      "source": [
        "# Check our datas and see if there's missing value\n",
        "amazon_dt.isna().sum()"
      ]
    },
    {
      "cell_type": "code",
      "execution_count": 6,
      "id": "73737ec0-077d-4d41-b168-57dd0d49435f",
      "metadata": {
        "tags": [],
        "id": "73737ec0-077d-4d41-b168-57dd0d49435f"
      },
      "outputs": [],
      "source": [
        "# drop the missing value\n",
        "amazon_dt = amazon_dt.dropna()"
      ]
    },
    {
      "cell_type": "code",
      "execution_count": 7,
      "id": "612a576e-ca8f-432c-860e-aaa4b9fc008e",
      "metadata": {
        "tags": [],
        "colab": {
          "base_uri": "https://localhost:8080/"
        },
        "id": "612a576e-ca8f-432c-860e-aaa4b9fc008e",
        "outputId": "f14c6e44-0ab3-432b-9d15-04567a2e4e9e"
      },
      "outputs": [
        {
          "output_type": "execute_result",
          "data": {
            "text/plain": [
              "Unnamed: 0              0\n",
              "reviewerName            0\n",
              "overall                 0\n",
              "reviewText              0\n",
              "reviewTime              0\n",
              "day_diff                0\n",
              "helpful_yes             0\n",
              "helpful_no              0\n",
              "total_vote              0\n",
              "score_pos_neg_diff      0\n",
              "score_average_rating    0\n",
              "wilson_lower_bound      0\n",
              "dtype: int64"
            ]
          },
          "metadata": {},
          "execution_count": 7
        }
      ],
      "source": [
        "amazon_dt.isna().sum()"
      ]
    },
    {
      "cell_type": "code",
      "execution_count": 8,
      "id": "e8f503bd-ba85-4023-9301-1fa100331114",
      "metadata": {
        "tags": [],
        "colab": {
          "base_uri": "https://localhost:8080/",
          "height": 206
        },
        "id": "e8f503bd-ba85-4023-9301-1fa100331114",
        "outputId": "1ef98485-969b-4aa7-f838-64aaa216060b"
      },
      "outputs": [
        {
          "output_type": "execute_result",
          "data": {
            "text/plain": [
              "   overall                                         reviewText\n",
              "1      5.0  Purchased this for my device, it worked as adv...\n",
              "2      4.0  it works as expected. I should have sprung for...\n",
              "3      5.0  This think has worked out great.Had a diff. br...\n",
              "4      5.0  Bought it with Retail Packaging, arrived legit...\n",
              "5      5.0  It's mini storage.  It doesn't do anything els..."
            ],
            "text/html": [
              "\n",
              "  <div id=\"df-d1a4fddd-f0a0-49f7-832c-df5448be9d3c\">\n",
              "    <div class=\"colab-df-container\">\n",
              "      <div>\n",
              "<style scoped>\n",
              "    .dataframe tbody tr th:only-of-type {\n",
              "        vertical-align: middle;\n",
              "    }\n",
              "\n",
              "    .dataframe tbody tr th {\n",
              "        vertical-align: top;\n",
              "    }\n",
              "\n",
              "    .dataframe thead th {\n",
              "        text-align: right;\n",
              "    }\n",
              "</style>\n",
              "<table border=\"1\" class=\"dataframe\">\n",
              "  <thead>\n",
              "    <tr style=\"text-align: right;\">\n",
              "      <th></th>\n",
              "      <th>overall</th>\n",
              "      <th>reviewText</th>\n",
              "    </tr>\n",
              "  </thead>\n",
              "  <tbody>\n",
              "    <tr>\n",
              "      <th>1</th>\n",
              "      <td>5.0</td>\n",
              "      <td>Purchased this for my device, it worked as adv...</td>\n",
              "    </tr>\n",
              "    <tr>\n",
              "      <th>2</th>\n",
              "      <td>4.0</td>\n",
              "      <td>it works as expected. I should have sprung for...</td>\n",
              "    </tr>\n",
              "    <tr>\n",
              "      <th>3</th>\n",
              "      <td>5.0</td>\n",
              "      <td>This think has worked out great.Had a diff. br...</td>\n",
              "    </tr>\n",
              "    <tr>\n",
              "      <th>4</th>\n",
              "      <td>5.0</td>\n",
              "      <td>Bought it with Retail Packaging, arrived legit...</td>\n",
              "    </tr>\n",
              "    <tr>\n",
              "      <th>5</th>\n",
              "      <td>5.0</td>\n",
              "      <td>It's mini storage.  It doesn't do anything els...</td>\n",
              "    </tr>\n",
              "  </tbody>\n",
              "</table>\n",
              "</div>\n",
              "      <button class=\"colab-df-convert\" onclick=\"convertToInteractive('df-d1a4fddd-f0a0-49f7-832c-df5448be9d3c')\"\n",
              "              title=\"Convert this dataframe to an interactive table.\"\n",
              "              style=\"display:none;\">\n",
              "        \n",
              "  <svg xmlns=\"http://www.w3.org/2000/svg\" height=\"24px\"viewBox=\"0 0 24 24\"\n",
              "       width=\"24px\">\n",
              "    <path d=\"M0 0h24v24H0V0z\" fill=\"none\"/>\n",
              "    <path d=\"M18.56 5.44l.94 2.06.94-2.06 2.06-.94-2.06-.94-.94-2.06-.94 2.06-2.06.94zm-11 1L8.5 8.5l.94-2.06 2.06-.94-2.06-.94L8.5 2.5l-.94 2.06-2.06.94zm10 10l.94 2.06.94-2.06 2.06-.94-2.06-.94-.94-2.06-.94 2.06-2.06.94z\"/><path d=\"M17.41 7.96l-1.37-1.37c-.4-.4-.92-.59-1.43-.59-.52 0-1.04.2-1.43.59L10.3 9.45l-7.72 7.72c-.78.78-.78 2.05 0 2.83L4 21.41c.39.39.9.59 1.41.59.51 0 1.02-.2 1.41-.59l7.78-7.78 2.81-2.81c.8-.78.8-2.07 0-2.86zM5.41 20L4 18.59l7.72-7.72 1.47 1.35L5.41 20z\"/>\n",
              "  </svg>\n",
              "      </button>\n",
              "      \n",
              "  <style>\n",
              "    .colab-df-container {\n",
              "      display:flex;\n",
              "      flex-wrap:wrap;\n",
              "      gap: 12px;\n",
              "    }\n",
              "\n",
              "    .colab-df-convert {\n",
              "      background-color: #E8F0FE;\n",
              "      border: none;\n",
              "      border-radius: 50%;\n",
              "      cursor: pointer;\n",
              "      display: none;\n",
              "      fill: #1967D2;\n",
              "      height: 32px;\n",
              "      padding: 0 0 0 0;\n",
              "      width: 32px;\n",
              "    }\n",
              "\n",
              "    .colab-df-convert:hover {\n",
              "      background-color: #E2EBFA;\n",
              "      box-shadow: 0px 1px 2px rgba(60, 64, 67, 0.3), 0px 1px 3px 1px rgba(60, 64, 67, 0.15);\n",
              "      fill: #174EA6;\n",
              "    }\n",
              "\n",
              "    [theme=dark] .colab-df-convert {\n",
              "      background-color: #3B4455;\n",
              "      fill: #D2E3FC;\n",
              "    }\n",
              "\n",
              "    [theme=dark] .colab-df-convert:hover {\n",
              "      background-color: #434B5C;\n",
              "      box-shadow: 0px 1px 3px 1px rgba(0, 0, 0, 0.15);\n",
              "      filter: drop-shadow(0px 1px 2px rgba(0, 0, 0, 0.3));\n",
              "      fill: #FFFFFF;\n",
              "    }\n",
              "  </style>\n",
              "\n",
              "      <script>\n",
              "        const buttonEl =\n",
              "          document.querySelector('#df-d1a4fddd-f0a0-49f7-832c-df5448be9d3c button.colab-df-convert');\n",
              "        buttonEl.style.display =\n",
              "          google.colab.kernel.accessAllowed ? 'block' : 'none';\n",
              "\n",
              "        async function convertToInteractive(key) {\n",
              "          const element = document.querySelector('#df-d1a4fddd-f0a0-49f7-832c-df5448be9d3c');\n",
              "          const dataTable =\n",
              "            await google.colab.kernel.invokeFunction('convertToInteractive',\n",
              "                                                     [key], {});\n",
              "          if (!dataTable) return;\n",
              "\n",
              "          const docLinkHtml = 'Like what you see? Visit the ' +\n",
              "            '<a target=\"_blank\" href=https://colab.research.google.com/notebooks/data_table.ipynb>data table notebook</a>'\n",
              "            + ' to learn more about interactive tables.';\n",
              "          element.innerHTML = '';\n",
              "          dataTable['output_type'] = 'display_data';\n",
              "          await google.colab.output.renderOutput(dataTable, element);\n",
              "          const docLink = document.createElement('div');\n",
              "          docLink.innerHTML = docLinkHtml;\n",
              "          element.appendChild(docLink);\n",
              "        }\n",
              "      </script>\n",
              "    </div>\n",
              "  </div>\n",
              "  "
            ]
          },
          "metadata": {},
          "execution_count": 8
        }
      ],
      "source": [
        "amazon_reviews = amazon_dt.copy()\n",
        "amazon_reviews = pd.DataFrame(amazon_reviews.drop(['reviewerName', \n",
        "                                                   'reviewTime', \n",
        "                                                   'day_diff', \n",
        "                                                   'day_diff', \n",
        "                                                   'helpful_yes',\n",
        "                                                   'helpful_no',\n",
        "                                                   'total_vote',\n",
        "                                                   'score_pos_neg_diff',\n",
        "                                                   'score_average_rating',\n",
        "                                                   'wilson_lower_bound',\n",
        "                                                   'Unnamed: 0'], axis=1))\n",
        "amazon_reviews.head()"
      ]
    },
    {
      "cell_type": "code",
      "execution_count": 9,
      "id": "be7bc443-642c-40f6-ab21-6d3e9145bb6f",
      "metadata": {
        "tags": [],
        "colab": {
          "base_uri": "https://localhost:8080/",
          "height": 206
        },
        "id": "be7bc443-642c-40f6-ab21-6d3e9145bb6f",
        "outputId": "e8add819-b203-4028-d3a1-a5fc25bfcfee"
      },
      "outputs": [
        {
          "output_type": "execute_result",
          "data": {
            "text/plain": [
              "      overall                                         reviewText\n",
              "906       4.0  Love this 32gb micro sd card. I put it in my S...\n",
              "2984      5.0  I purchased the Samsung Galaxy S3 because I co...\n",
              "3705      4.0  Well works just like any other SD card I don;t...\n",
              "4809      5.0  I ordered this to replace an aging Class 4 car...\n",
              "863       4.0  ...to have both the micro and the adapter in t..."
            ],
            "text/html": [
              "\n",
              "  <div id=\"df-fd134b9f-ccde-42c2-afd3-23968c8ba68a\">\n",
              "    <div class=\"colab-df-container\">\n",
              "      <div>\n",
              "<style scoped>\n",
              "    .dataframe tbody tr th:only-of-type {\n",
              "        vertical-align: middle;\n",
              "    }\n",
              "\n",
              "    .dataframe tbody tr th {\n",
              "        vertical-align: top;\n",
              "    }\n",
              "\n",
              "    .dataframe thead th {\n",
              "        text-align: right;\n",
              "    }\n",
              "</style>\n",
              "<table border=\"1\" class=\"dataframe\">\n",
              "  <thead>\n",
              "    <tr style=\"text-align: right;\">\n",
              "      <th></th>\n",
              "      <th>overall</th>\n",
              "      <th>reviewText</th>\n",
              "    </tr>\n",
              "  </thead>\n",
              "  <tbody>\n",
              "    <tr>\n",
              "      <th>906</th>\n",
              "      <td>4.0</td>\n",
              "      <td>Love this 32gb micro sd card. I put it in my S...</td>\n",
              "    </tr>\n",
              "    <tr>\n",
              "      <th>2984</th>\n",
              "      <td>5.0</td>\n",
              "      <td>I purchased the Samsung Galaxy S3 because I co...</td>\n",
              "    </tr>\n",
              "    <tr>\n",
              "      <th>3705</th>\n",
              "      <td>4.0</td>\n",
              "      <td>Well works just like any other SD card I don;t...</td>\n",
              "    </tr>\n",
              "    <tr>\n",
              "      <th>4809</th>\n",
              "      <td>5.0</td>\n",
              "      <td>I ordered this to replace an aging Class 4 car...</td>\n",
              "    </tr>\n",
              "    <tr>\n",
              "      <th>863</th>\n",
              "      <td>4.0</td>\n",
              "      <td>...to have both the micro and the adapter in t...</td>\n",
              "    </tr>\n",
              "  </tbody>\n",
              "</table>\n",
              "</div>\n",
              "      <button class=\"colab-df-convert\" onclick=\"convertToInteractive('df-fd134b9f-ccde-42c2-afd3-23968c8ba68a')\"\n",
              "              title=\"Convert this dataframe to an interactive table.\"\n",
              "              style=\"display:none;\">\n",
              "        \n",
              "  <svg xmlns=\"http://www.w3.org/2000/svg\" height=\"24px\"viewBox=\"0 0 24 24\"\n",
              "       width=\"24px\">\n",
              "    <path d=\"M0 0h24v24H0V0z\" fill=\"none\"/>\n",
              "    <path d=\"M18.56 5.44l.94 2.06.94-2.06 2.06-.94-2.06-.94-.94-2.06-.94 2.06-2.06.94zm-11 1L8.5 8.5l.94-2.06 2.06-.94-2.06-.94L8.5 2.5l-.94 2.06-2.06.94zm10 10l.94 2.06.94-2.06 2.06-.94-2.06-.94-.94-2.06-.94 2.06-2.06.94z\"/><path d=\"M17.41 7.96l-1.37-1.37c-.4-.4-.92-.59-1.43-.59-.52 0-1.04.2-1.43.59L10.3 9.45l-7.72 7.72c-.78.78-.78 2.05 0 2.83L4 21.41c.39.39.9.59 1.41.59.51 0 1.02-.2 1.41-.59l7.78-7.78 2.81-2.81c.8-.78.8-2.07 0-2.86zM5.41 20L4 18.59l7.72-7.72 1.47 1.35L5.41 20z\"/>\n",
              "  </svg>\n",
              "      </button>\n",
              "      \n",
              "  <style>\n",
              "    .colab-df-container {\n",
              "      display:flex;\n",
              "      flex-wrap:wrap;\n",
              "      gap: 12px;\n",
              "    }\n",
              "\n",
              "    .colab-df-convert {\n",
              "      background-color: #E8F0FE;\n",
              "      border: none;\n",
              "      border-radius: 50%;\n",
              "      cursor: pointer;\n",
              "      display: none;\n",
              "      fill: #1967D2;\n",
              "      height: 32px;\n",
              "      padding: 0 0 0 0;\n",
              "      width: 32px;\n",
              "    }\n",
              "\n",
              "    .colab-df-convert:hover {\n",
              "      background-color: #E2EBFA;\n",
              "      box-shadow: 0px 1px 2px rgba(60, 64, 67, 0.3), 0px 1px 3px 1px rgba(60, 64, 67, 0.15);\n",
              "      fill: #174EA6;\n",
              "    }\n",
              "\n",
              "    [theme=dark] .colab-df-convert {\n",
              "      background-color: #3B4455;\n",
              "      fill: #D2E3FC;\n",
              "    }\n",
              "\n",
              "    [theme=dark] .colab-df-convert:hover {\n",
              "      background-color: #434B5C;\n",
              "      box-shadow: 0px 1px 3px 1px rgba(0, 0, 0, 0.15);\n",
              "      filter: drop-shadow(0px 1px 2px rgba(0, 0, 0, 0.3));\n",
              "      fill: #FFFFFF;\n",
              "    }\n",
              "  </style>\n",
              "\n",
              "      <script>\n",
              "        const buttonEl =\n",
              "          document.querySelector('#df-fd134b9f-ccde-42c2-afd3-23968c8ba68a button.colab-df-convert');\n",
              "        buttonEl.style.display =\n",
              "          google.colab.kernel.accessAllowed ? 'block' : 'none';\n",
              "\n",
              "        async function convertToInteractive(key) {\n",
              "          const element = document.querySelector('#df-fd134b9f-ccde-42c2-afd3-23968c8ba68a');\n",
              "          const dataTable =\n",
              "            await google.colab.kernel.invokeFunction('convertToInteractive',\n",
              "                                                     [key], {});\n",
              "          if (!dataTable) return;\n",
              "\n",
              "          const docLinkHtml = 'Like what you see? Visit the ' +\n",
              "            '<a target=\"_blank\" href=https://colab.research.google.com/notebooks/data_table.ipynb>data table notebook</a>'\n",
              "            + ' to learn more about interactive tables.';\n",
              "          element.innerHTML = '';\n",
              "          dataTable['output_type'] = 'display_data';\n",
              "          await google.colab.output.renderOutput(dataTable, element);\n",
              "          const docLink = document.createElement('div');\n",
              "          docLink.innerHTML = docLinkHtml;\n",
              "          element.appendChild(docLink);\n",
              "        }\n",
              "      </script>\n",
              "    </div>\n",
              "  </div>\n",
              "  "
            ]
          },
          "metadata": {},
          "execution_count": 9
        }
      ],
      "source": [
        "# Shuffle amazon_reviews \n",
        "amazon_reviews_shuffled = amazon_reviews.sample(frac=1, random_state=512)\n",
        "amazon_reviews_shuffled.head()"
      ]
    },
    {
      "cell_type": "markdown",
      "id": "3f440115-a173-4057-8013-ad15e4a3e583",
      "metadata": {
        "id": "3f440115-a173-4057-8013-ad15e4a3e583"
      },
      "source": [
        "Apply labels to overall\n",
        "\n",
        "2 = Postive;\n",
        "1 = Neutral;\n",
        "0 = Negative;"
      ]
    },
    {
      "cell_type": "code",
      "execution_count": 10,
      "id": "fb149c72-625b-4a6b-9ccd-0315a5c5675a",
      "metadata": {
        "tags": [],
        "colab": {
          "base_uri": "https://localhost:8080/",
          "height": 206
        },
        "id": "fb149c72-625b-4a6b-9ccd-0315a5c5675a",
        "outputId": "7b162c38-3c51-4409-e030-7a35436adf02"
      },
      "outputs": [
        {
          "output_type": "execute_result",
          "data": {
            "text/plain": [
              "      overall                                         reviewText\n",
              "906         2  Love this 32gb micro sd card. I put it in my S...\n",
              "2984        2  I purchased the Samsung Galaxy S3 because I co...\n",
              "3705        2  Well works just like any other SD card I don;t...\n",
              "4809        2  I ordered this to replace an aging Class 4 car...\n",
              "863         2  ...to have both the micro and the adapter in t..."
            ],
            "text/html": [
              "\n",
              "  <div id=\"df-f5e1fcc7-79e6-4925-9b35-356415021a6d\">\n",
              "    <div class=\"colab-df-container\">\n",
              "      <div>\n",
              "<style scoped>\n",
              "    .dataframe tbody tr th:only-of-type {\n",
              "        vertical-align: middle;\n",
              "    }\n",
              "\n",
              "    .dataframe tbody tr th {\n",
              "        vertical-align: top;\n",
              "    }\n",
              "\n",
              "    .dataframe thead th {\n",
              "        text-align: right;\n",
              "    }\n",
              "</style>\n",
              "<table border=\"1\" class=\"dataframe\">\n",
              "  <thead>\n",
              "    <tr style=\"text-align: right;\">\n",
              "      <th></th>\n",
              "      <th>overall</th>\n",
              "      <th>reviewText</th>\n",
              "    </tr>\n",
              "  </thead>\n",
              "  <tbody>\n",
              "    <tr>\n",
              "      <th>906</th>\n",
              "      <td>2</td>\n",
              "      <td>Love this 32gb micro sd card. I put it in my S...</td>\n",
              "    </tr>\n",
              "    <tr>\n",
              "      <th>2984</th>\n",
              "      <td>2</td>\n",
              "      <td>I purchased the Samsung Galaxy S3 because I co...</td>\n",
              "    </tr>\n",
              "    <tr>\n",
              "      <th>3705</th>\n",
              "      <td>2</td>\n",
              "      <td>Well works just like any other SD card I don;t...</td>\n",
              "    </tr>\n",
              "    <tr>\n",
              "      <th>4809</th>\n",
              "      <td>2</td>\n",
              "      <td>I ordered this to replace an aging Class 4 car...</td>\n",
              "    </tr>\n",
              "    <tr>\n",
              "      <th>863</th>\n",
              "      <td>2</td>\n",
              "      <td>...to have both the micro and the adapter in t...</td>\n",
              "    </tr>\n",
              "  </tbody>\n",
              "</table>\n",
              "</div>\n",
              "      <button class=\"colab-df-convert\" onclick=\"convertToInteractive('df-f5e1fcc7-79e6-4925-9b35-356415021a6d')\"\n",
              "              title=\"Convert this dataframe to an interactive table.\"\n",
              "              style=\"display:none;\">\n",
              "        \n",
              "  <svg xmlns=\"http://www.w3.org/2000/svg\" height=\"24px\"viewBox=\"0 0 24 24\"\n",
              "       width=\"24px\">\n",
              "    <path d=\"M0 0h24v24H0V0z\" fill=\"none\"/>\n",
              "    <path d=\"M18.56 5.44l.94 2.06.94-2.06 2.06-.94-2.06-.94-.94-2.06-.94 2.06-2.06.94zm-11 1L8.5 8.5l.94-2.06 2.06-.94-2.06-.94L8.5 2.5l-.94 2.06-2.06.94zm10 10l.94 2.06.94-2.06 2.06-.94-2.06-.94-.94-2.06-.94 2.06-2.06.94z\"/><path d=\"M17.41 7.96l-1.37-1.37c-.4-.4-.92-.59-1.43-.59-.52 0-1.04.2-1.43.59L10.3 9.45l-7.72 7.72c-.78.78-.78 2.05 0 2.83L4 21.41c.39.39.9.59 1.41.59.51 0 1.02-.2 1.41-.59l7.78-7.78 2.81-2.81c.8-.78.8-2.07 0-2.86zM5.41 20L4 18.59l7.72-7.72 1.47 1.35L5.41 20z\"/>\n",
              "  </svg>\n",
              "      </button>\n",
              "      \n",
              "  <style>\n",
              "    .colab-df-container {\n",
              "      display:flex;\n",
              "      flex-wrap:wrap;\n",
              "      gap: 12px;\n",
              "    }\n",
              "\n",
              "    .colab-df-convert {\n",
              "      background-color: #E8F0FE;\n",
              "      border: none;\n",
              "      border-radius: 50%;\n",
              "      cursor: pointer;\n",
              "      display: none;\n",
              "      fill: #1967D2;\n",
              "      height: 32px;\n",
              "      padding: 0 0 0 0;\n",
              "      width: 32px;\n",
              "    }\n",
              "\n",
              "    .colab-df-convert:hover {\n",
              "      background-color: #E2EBFA;\n",
              "      box-shadow: 0px 1px 2px rgba(60, 64, 67, 0.3), 0px 1px 3px 1px rgba(60, 64, 67, 0.15);\n",
              "      fill: #174EA6;\n",
              "    }\n",
              "\n",
              "    [theme=dark] .colab-df-convert {\n",
              "      background-color: #3B4455;\n",
              "      fill: #D2E3FC;\n",
              "    }\n",
              "\n",
              "    [theme=dark] .colab-df-convert:hover {\n",
              "      background-color: #434B5C;\n",
              "      box-shadow: 0px 1px 3px 1px rgba(0, 0, 0, 0.15);\n",
              "      filter: drop-shadow(0px 1px 2px rgba(0, 0, 0, 0.3));\n",
              "      fill: #FFFFFF;\n",
              "    }\n",
              "  </style>\n",
              "\n",
              "      <script>\n",
              "        const buttonEl =\n",
              "          document.querySelector('#df-f5e1fcc7-79e6-4925-9b35-356415021a6d button.colab-df-convert');\n",
              "        buttonEl.style.display =\n",
              "          google.colab.kernel.accessAllowed ? 'block' : 'none';\n",
              "\n",
              "        async function convertToInteractive(key) {\n",
              "          const element = document.querySelector('#df-f5e1fcc7-79e6-4925-9b35-356415021a6d');\n",
              "          const dataTable =\n",
              "            await google.colab.kernel.invokeFunction('convertToInteractive',\n",
              "                                                     [key], {});\n",
              "          if (!dataTable) return;\n",
              "\n",
              "          const docLinkHtml = 'Like what you see? Visit the ' +\n",
              "            '<a target=\"_blank\" href=https://colab.research.google.com/notebooks/data_table.ipynb>data table notebook</a>'\n",
              "            + ' to learn more about interactive tables.';\n",
              "          element.innerHTML = '';\n",
              "          dataTable['output_type'] = 'display_data';\n",
              "          await google.colab.output.renderOutput(dataTable, element);\n",
              "          const docLink = document.createElement('div');\n",
              "          docLink.innerHTML = docLinkHtml;\n",
              "          element.appendChild(docLink);\n",
              "        }\n",
              "      </script>\n",
              "    </div>\n",
              "  </div>\n",
              "  "
            ]
          },
          "metadata": {},
          "execution_count": 10
        }
      ],
      "source": [
        "reviews_dict = {\n",
        "    5.0: '2',\n",
        "    4.0: '2',\n",
        "    3.0: '1',\n",
        "    2.0: '0',\n",
        "    1.0: '0'\n",
        "}\n",
        "\n",
        "amazon_reviews_shuffled['overall'] = amazon_reviews_shuffled['overall'].replace(reviews_dict).astype(int)\n",
        "amazon_reviews_shuffled.head()"
      ]
    },
    {
      "cell_type": "code",
      "execution_count": 11,
      "id": "6e07a31c-61f1-403e-be12-4834a51998e4",
      "metadata": {
        "tags": [],
        "colab": {
          "base_uri": "https://localhost:8080/"
        },
        "id": "6e07a31c-61f1-403e-be12-4834a51998e4",
        "outputId": "687418f4-7813-48d4-ee68-933afe5f2ebc"
      },
      "outputs": [
        {
          "output_type": "execute_result",
          "data": {
            "text/plain": [
              "2    4447\n",
              "0     324\n",
              "1     142\n",
              "Name: overall, dtype: int64"
            ]
          },
          "metadata": {},
          "execution_count": 11
        }
      ],
      "source": [
        "amazon_reviews_shuffled['overall'].value_counts()"
      ]
    },
    {
      "cell_type": "code",
      "execution_count": 12,
      "id": "ed08f44f-e6d2-4439-92e2-ffc5823893d1",
      "metadata": {
        "tags": [],
        "colab": {
          "base_uri": "https://localhost:8080/",
          "height": 472
        },
        "id": "ed08f44f-e6d2-4439-92e2-ffc5823893d1",
        "outputId": "83e6b526-184b-4c0d-f47f-625a612703bc"
      },
      "outputs": [
        {
          "output_type": "display_data",
          "data": {
            "text/plain": [
              "<Figure size 640x480 with 1 Axes>"
            ],
            "image/png": "[encoded data removed]"
          },
          "metadata": {}
        }
      ],
      "source": [
        "import matplotlib.pyplot as plt\n",
        "\n",
        "amazon_reviews_shuffled['overall'].value_counts().plot(kind='bar', color = \"skyblue\")\n",
        "plt.xlabel('Class')\n",
        "plt.ylabel('Count')\n",
        "plt.title('Class distribution')\n",
        "plt.xticks([0, 1, 2], ['Positive', 'Neutral', 'Negative'], rotation=0)\n",
        "plt.show()"
      ]
    },
    {
      "cell_type": "code",
      "execution_count": 13,
      "id": "63eb24dd-b013-43ab-8533-43325c6ecb72",
      "metadata": {
        "tags": [],
        "colab": {
          "base_uri": "https://localhost:8080/"
        },
        "id": "63eb24dd-b013-43ab-8533-43325c6ecb72",
        "outputId": "fe554987-0785-4473-da93-b3450cf780ee"
      },
      "outputs": [
        {
          "output_type": "stream",
          "name": "stdout",
          "text": [
            "Target:2 (Postive)\n",
            "Test:\n",
            "got this because i had a 2 GB one that filled up. i kept getting the insufficient disk space on my phone. my kids take my phone and do selfies. mostly my daughter. I had to get a bigger card. the 2GB one was a carry over from an old phone.needless to say this was sweet. plenty of space. and i dont have to delete pictures anymore. well for now at least.my daughter loves selfies.\n",
            "\n",
            "---\n",
            "\n",
            "Target:2 (Postive)\n",
            "Test:\n",
            "We were going on vacation and I wanted to take a bunch of digital media for the long plane flights and for chilling during downtime. This chip took everything I needed and worked without issue. Glad to see the 128GB chips on the market, looking forward to the 256GB ones!\n",
            "\n",
            "---\n",
            "\n",
            "Target:2 (Postive)\n",
            "Test:\n",
            "As I just mentioned, it is both fast and efficient.  After several months of use in both my laptop and 7 inch Galaxy Tab 2, it has displayed exceptional speed and no loss of data.  I highly recommend this card for use in computing devices and/or tablets.\n",
            "\n",
            "---\n",
            "\n",
            "Target:1 (Neutral)\n",
            "Test:\n",
            "UPDATE 6/18/14: Well, I suppose nothing lasts forever. After almost a year, the card has gone bad. I use the card a lot in my smartphone - a T-Mobile Samsung Galaxy S3 (SGH-T999). All my photos, voice recordings, and downloads go on this card, and the downloads are transferred to my computer almost daily via USB cable. A few days ago, a video file I transferred to my computer refused to play correctly. No video, and the audio was skipping and squealing, which I recognize as the sound of a corrupted file. I thought maybe the transfer didn't complete; tried it again, same result. I tried to play the file right on the phone, and it didn't play on my phone! I knew there was a problem. I tried copying the video to my phone storage and playing it there, still no luck. Then I deleted the video and decided to download it directly to my phone, not the SD card - EUREKA. It played perfectly.I formatted the SDXC card twice - once from the phone and once through Windows - and tried the same test. Downloaded video file to the card, then to the phone. Same result both times - it wouldn't play on the SD card, but it did on the phone. All videos used to play perfectly on the SD card. Finally, I swapped out the card for my older, Sandisk Ultra 32GB Micro SDXC card. Like magic, it worked perfectly no matter what I played on it. So yeah, the 64GB card is dead. I should note that the card performed flawlessly for nearly a year up until a few days ago.Thankfully, Sandisk Ultra products like this carry an incredible Lifetime warranty - or 10 years for regions that don't recognize \"lifetime\"; their Extreme line of cards raise that to 30 years! I've contacted their support for an RMA so I'll update this review as events unfold. If they replace it quickly, I'll bump this back up to 5 stars.ORIGINAL REVIEW:I'm using a Samsung Galaxy S3 smartphone. Sandisk Ultra Micro SD cards have never failed me, and this one's no exception. I used to have a 32gb card. They're fast and reliable and never corrupt data, which is more than can be said for some cheaper brands like PNY (those fail quite often). I can't wait to get the new 128GB model!\n",
            "\n",
            "---\n",
            "\n",
            "Target:1 (Neutral)\n",
            "Test:\n",
            "It works just like it should. It really does work like it should. I bought this thinking it would work and it does!\n",
            "\n",
            "---\n",
            "\n"
          ]
        }
      ],
      "source": [
        "# Visualize some random examples \n",
        "import random \n",
        "random_index = random.randint(0, len(amazon_reviews_shuffled)-5) # Create random indexes not higher than samples \n",
        "for row in amazon_reviews_shuffled[['overall', 'reviewText']][random_index:random_index+5].itertuples():\n",
        "    _, target, text = row \n",
        "    # print(row)\n",
        "    print(f'Target:{target}', '(Postive)' if target>1 else '(Neutral)' if target>0 else'(Negative)')\n",
        "    print(f'Test:\\n{text}\\n')\n",
        "    print('---\\n')"
      ]
    },
    {
      "cell_type": "markdown",
      "id": "8ec83eb6-ca7a-445b-9463-9099035f1e34",
      "metadata": {
        "id": "8ec83eb6-ca7a-445b-9463-9099035f1e34"
      },
      "source": [
        "## Split the data into train and validation set "
      ]
    },
    {
      "cell_type": "code",
      "execution_count": 14,
      "id": "235f0c8d-65fc-46bb-bfa0-d9260772e413",
      "metadata": {
        "tags": [],
        "id": "235f0c8d-65fc-46bb-bfa0-d9260772e413"
      },
      "outputs": [],
      "source": [
        "from sklearn.model_selection import train_test_split\n",
        "\n",
        "# Use train_test_split to split training data into training and validation sets \n",
        "train_sentences, val_sentences, train_labels, val_labels = train_test_split(amazon_reviews_shuffled['reviewText'].to_numpy(),\n",
        "                                                                            amazon_reviews_shuffled['overall'].to_numpy(),\n",
        "                                                                            test_size=0.1,\n",
        "                                                                            random_state=512)"
      ]
    },
    {
      "cell_type": "code",
      "execution_count": 15,
      "id": "92cb69af-a624-4cdb-89b7-6b5fd05c6fa3",
      "metadata": {
        "tags": [],
        "colab": {
          "base_uri": "https://localhost:8080/"
        },
        "id": "92cb69af-a624-4cdb-89b7-6b5fd05c6fa3",
        "outputId": "a8280055-9dca-4b07-f6e8-3b8a5c38b7c2"
      },
      "outputs": [
        {
          "output_type": "execute_result",
          "data": {
            "text/plain": [
              "(4421, 4421, 492, 492)"
            ]
          },
          "metadata": {},
          "execution_count": 15
        }
      ],
      "source": [
        "len(train_sentences), len(train_labels), len(val_sentences), len(val_labels)"
      ]
    },
    {
      "cell_type": "code",
      "execution_count": 16,
      "id": "eb3e26de-48f4-45b1-b383-5c045917a76c",
      "metadata": {
        "tags": [],
        "colab": {
          "base_uri": "https://localhost:8080/"
        },
        "id": "eb3e26de-48f4-45b1-b383-5c045917a76c",
        "outputId": "8240ece5-152f-48e2-9208-01e70508992e"
      },
      "outputs": [
        {
          "output_type": "execute_result",
          "data": {
            "text/plain": [
              "(array(['I only buy SanDisk and this item like all the others I have purchased, worked perfectly the first time.  Love it!',\n",
              "        'Works great in my Samsung Galaxy Note 2.Put the memory cards in and go to storage in the settings.  Click format card and off you go.I have not measured read or write speed but i can tell you i can copy over 1Gb video file in just a few seconds.',\n",
              "        'I liked this so much that I bought a 2nd here.  The first I put in my Samsung Galaxy Player 5 and the second in my Samsung Galaxy S 4G phone.  The card easily hold all my mp3s and apps.  This card is noticeably faster than the cheaper cards that have a speed of 4 on them...this card is a 10 and when you first boot your device you see all your apps get loaded within seconds.  If you want a good 32 GB mini SD card then this is the one!',\n",
              "        \"I'm not sure what else to say other than, &#34;it works&#34;.  I use this card with my Sandisk Wireless Flash.....I think I'll buy a couple more.\",\n",
              "        'This was the necessary addition to the GoPro mini HD camera.  Very pleased with the service and what was advertised.  Will be a repeat customer for sure as I look forward to adding to my video & photography collection of accessories.'],\n",
              "       dtype=object),\n",
              " array([2, 2, 2, 2, 2]))"
            ]
          },
          "metadata": {},
          "execution_count": 16
        }
      ],
      "source": [
        "# Check the first 5 samples \n",
        "train_sentences[:5], train_labels[:5]"
      ]
    },
    {
      "cell_type": "markdown",
      "id": "484bfcb6-0500-40d1-a2e7-67f04201c1be",
      "metadata": {
        "id": "484bfcb6-0500-40d1-a2e7-67f04201c1be"
      },
      "source": [
        "## Converting text into numbers"
      ]
    },
    {
      "cell_type": "markdown",
      "id": "7f9e9dc8-e83d-4386-ac15-d5f7c010062b",
      "metadata": {
        "id": "7f9e9dc8-e83d-4386-ac15-d5f7c010062b"
      },
      "source": [
        "### Text Vectorization"
      ]
    },
    {
      "cell_type": "code",
      "execution_count": 17,
      "id": "c692a26c-04a7-4d19-b871-d3c7605cf283",
      "metadata": {
        "tags": [],
        "colab": {
          "base_uri": "https://localhost:8080/"
        },
        "id": "c692a26c-04a7-4d19-b871-d3c7605cf283",
        "outputId": "2369114c-fdad-4577-86dd-ee2f1e15800a"
      },
      "outputs": [
        {
          "output_type": "execute_result",
          "data": {
            "text/plain": [
              "51"
            ]
          },
          "metadata": {},
          "execution_count": 17
        }
      ],
      "source": [
        "# Find the average number of tokens (words) in the training tweets \n",
        "round(sum([len(i.split()) for i in train_sentences])/len(train_sentences))"
      ]
    },
    {
      "cell_type": "code",
      "execution_count": 18,
      "id": "03c05346-fccd-47e5-8594-b5bb1ca20712",
      "metadata": {
        "tags": [],
        "id": "03c05346-fccd-47e5-8594-b5bb1ca20712"
      },
      "outputs": [],
      "source": [
        "# Set up text vectorization variables \n",
        "max_vocab_length = 10000 \n",
        "max_length = 51 "
      ]
    },
    {
      "cell_type": "code",
      "execution_count": 19,
      "id": "12f8f64f-414d-4035-9ac3-3f72c143dd7e",
      "metadata": {
        "tags": [],
        "id": "12f8f64f-414d-4035-9ac3-3f72c143dd7e"
      },
      "outputs": [],
      "source": [
        "from tensorflow.keras.layers.experimental.preprocessing import TextVectorization\n",
        "\n",
        "text_vectorizer = TextVectorization(max_tokens=max_vocab_length,\n",
        "                                   output_mode='int',\n",
        "                                   output_sequence_length=max_length)"
      ]
    },
    {
      "cell_type": "code",
      "execution_count": 20,
      "id": "e1b6f048-e0cf-4703-a905-64d2419a1aed",
      "metadata": {
        "tags": [],
        "id": "e1b6f048-e0cf-4703-a905-64d2419a1aed"
      },
      "outputs": [],
      "source": [
        "# Fit the text vectorizer to the training text \n",
        "text_vectorizer.adapt(train_sentences)"
      ]
    },
    {
      "cell_type": "code",
      "execution_count": 21,
      "id": "b419a5fe-88ee-49a0-b531-8af4352f1af7",
      "metadata": {
        "tags": [],
        "colab": {
          "base_uri": "https://localhost:8080/"
        },
        "id": "b419a5fe-88ee-49a0-b531-8af4352f1af7",
        "outputId": "c218292e-d924-47c5-b475-f7e3150b3b3e"
      },
      "outputs": [
        {
          "output_type": "stream",
          "name": "stdout",
          "text": [
            "Original test: \n",
            "i know what my title says, and it's the actual amount on the card, which is really good. other cards that i own have a greater difference per advertised amount. i use it for my lenovo lynx tablet and it works perfectly.\n",
            "\n",
            "Vectorized version:\n"
          ]
        },
        {
          "output_type": "execute_result",
          "data": {
            "text/plain": [
              "<tf.Tensor: shape=(1, 51), dtype=int64, numpy=\n",
              "array([[   3,  200,   66,    8, 1740,  379,    4,   35,    2,  824,  426,\n",
              "          16,    2,    9,  119,   15,  136,   43,   88,   39,   18,    3,\n",
              "         520,   17,    7, 1975,  408,  621,  307,  426,    3,   32,    5,\n",
              "          11,    8, 1178, 7103,   65,    4,    5,   21,  158,    0,    0,\n",
              "           0,    0,    0,    0,    0,    0,    0]])>"
            ]
          },
          "metadata": {},
          "execution_count": 21
        }
      ],
      "source": [
        "# Choose a random sentence from training dataset and tokenize it \n",
        "random_sentence  = random.choice(train_sentences)\n",
        "print(f'Original test: \\n{random_sentence}\\n\\nVectorized version:')\n",
        "text_vectorizer([random_sentence])"
      ]
    },
    {
      "cell_type": "markdown",
      "id": "c41ae00b-5703-40fa-8916-a4d032a9a341",
      "metadata": {
        "id": "c41ae00b-5703-40fa-8916-a4d032a9a341"
      },
      "source": [
        "### Embedding layer"
      ]
    },
    {
      "cell_type": "code",
      "execution_count": 22,
      "id": "84aff12e-d6af-4d22-9790-e4cb6ae51184",
      "metadata": {
        "tags": [],
        "id": "84aff12e-d6af-4d22-9790-e4cb6ae51184"
      },
      "outputs": [],
      "source": [
        "from tensorflow.keras import layers\n",
        "\n",
        "embedding = layers.Embedding(input_dim = max_vocab_length,\n",
        "                            output_dim = 128,\n",
        "                            input_length = max_length)"
      ]
    },
    {
      "cell_type": "code",
      "execution_count": 23,
      "id": "3463278f-d348-426d-9b98-be3c20503296",
      "metadata": {
        "tags": [],
        "colab": {
          "base_uri": "https://localhost:8080/"
        },
        "id": "3463278f-d348-426d-9b98-be3c20503296",
        "outputId": "1a2aa068-3ac3-49d0-8151-8983549eb806"
      },
      "outputs": [
        {
          "output_type": "stream",
          "name": "stdout",
          "text": [
            "Original text:\n",
            " i know what my title says, and it's the actual amount on the card, which is really good. other cards that i own have a greater difference per advertised amount. i use it for my lenovo lynx tablet and it works perfectly. \n",
            "\n",
            "Embedded sentence:\n"
          ]
        },
        {
          "output_type": "execute_result",
          "data": {
            "text/plain": [
              "<tf.Tensor: shape=(1, 51, 128), dtype=float32, numpy=\n",
              "array([[[ 0.00478355,  0.0173541 ,  0.04299534, ..., -0.03953049,\n",
              "         -0.03309982,  0.04228473],\n",
              "        [ 0.0348183 ,  0.02635379,  0.01500653, ..., -0.03364153,\n",
              "          0.01138719,  0.04847551],\n",
              "        [ 0.00849624,  0.0451155 ,  0.0042231 , ..., -0.04251258,\n",
              "          0.00433178,  0.00286491],\n",
              "        ...,\n",
              "        [-0.03098078, -0.00949993,  0.03512906, ...,  0.02112541,\n",
              "          0.03679874,  0.03236523],\n",
              "        [-0.03098078, -0.00949993,  0.03512906, ...,  0.02112541,\n",
              "          0.03679874,  0.03236523],\n",
              "        [-0.03098078, -0.00949993,  0.03512906, ...,  0.02112541,\n",
              "          0.03679874,  0.03236523]]], dtype=float32)>"
            ]
          },
          "metadata": {},
          "execution_count": 23
        }
      ],
      "source": [
        "# Check how embedding works\n",
        "print(f'Original text:\\n {random_sentence} \\n\\nEmbedded sentence:')\n",
        "\n",
        "# Embed the random sentence \n",
        "sample_embed = embedding(text_vectorizer([random_sentence]))\n",
        "sample_embed"
      ]
    },
    {
      "cell_type": "markdown",
      "id": "e7115310-bc50-4d23-bb21-7c2a1911b679",
      "metadata": {
        "id": "e7115310-bc50-4d23-bb21-7c2a1911b679"
      },
      "source": [
        "## Model Experiment"
      ]
    },
    {
      "cell_type": "markdown",
      "id": "b3bdb483-99d2-482e-a18b-e88d948f9ea7",
      "metadata": {
        "id": "b3bdb483-99d2-482e-a18b-e88d948f9ea7"
      },
      "source": [
        "### Model 1. Naive Bayes (baseline)"
      ]
    },
    {
      "cell_type": "code",
      "execution_count": 24,
      "id": "b7ab2def-8453-4825-90ca-f6a29fbeaddd",
      "metadata": {
        "tags": [],
        "colab": {
          "base_uri": "https://localhost:8080/",
          "height": 127
        },
        "id": "b7ab2def-8453-4825-90ca-f6a29fbeaddd",
        "outputId": "bf7629f2-3791-4f6f-bd9b-a1fab011fba8"
      },
      "outputs": [
        {
          "output_type": "execute_result",
          "data": {
            "text/plain": [
              "Pipeline(steps=[('tfidf', TfidfVectorizer()), ('clf', MultinomialNB())])"
            ],
            "text/html": [
              "<style>#sk-container-id-1 {color: black;background-color: white;}#sk-container-id-1 pre{padding: 0;}#sk-container-id-1 div.sk-toggleable {background-color: white;}#sk-container-id-1 label.sk-toggleable__label {cursor: pointer;display: block;width: 100%;margin-bottom: 0;padding: 0.3em;box-sizing: border-box;text-align: center;}#sk-container-id-1 label.sk-toggleable__label-arrow:before {content: \"▸\";float: left;margin-right: 0.25em;color: #696969;}#sk-container-id-1 label.sk-toggleable__label-arrow:hover:before {color: black;}#sk-container-id-1 div.sk-estimator:hover label.sk-toggleable__label-arrow:before {color: black;}#sk-container-id-1 div.sk-toggleable__content {max-height: 0;max-width: 0;overflow: hidden;text-align: left;background-color: #f0f8ff;}#sk-container-id-1 div.sk-toggleable__content pre {margin: 0.2em;color: black;border-radius: 0.25em;background-color: #f0f8ff;}#sk-container-id-1 input.sk-toggleable__control:checked~div.sk-toggleable__content {max-height: 200px;max-width: 100%;overflow: auto;}#sk-container-id-1 input.sk-toggleable__control:checked~label.sk-toggleable__label-arrow:before {content: \"▾\";}#sk-container-id-1 div.sk-estimator input.sk-toggleable__control:checked~label.sk-toggleable__label {background-color: #d4ebff;}#sk-container-id-1 div.sk-label input.sk-toggleable__control:checked~label.sk-toggleable__label {background-color: #d4ebff;}#sk-container-id-1 input.sk-hidden--visually {border: 0;clip: rect(1px 1px 1px 1px);clip: rect(1px, 1px, 1px, 1px);height: 1px;margin: -1px;overflow: hidden;padding: 0;position: absolute;width: 1px;}#sk-container-id-1 div.sk-estimator {font-family: monospace;background-color: #f0f8ff;border: 1px dotted black;border-radius: 0.25em;box-sizing: border-box;margin-bottom: 0.5em;}#sk-container-id-1 div.sk-estimator:hover {background-color: #d4ebff;}#sk-container-id-1 div.sk-parallel-item::after {content: \"\";width: 100%;border-bottom: 1px solid gray;flex-grow: 1;}#sk-container-id-1 div.sk-label:hover label.sk-toggleable__label {background-color: #d4ebff;}#sk-container-id-1 div.sk-serial::before {content: \"\";position: absolute;border-left: 1px solid gray;box-sizing: border-box;top: 0;bottom: 0;left: 50%;z-index: 0;}#sk-container-id-1 div.sk-serial {display: flex;flex-direction: column;align-items: center;background-color: white;padding-right: 0.2em;padding-left: 0.2em;position: relative;}#sk-container-id-1 div.sk-item {position: relative;z-index: 1;}#sk-container-id-1 div.sk-parallel {display: flex;align-items: stretch;justify-content: center;background-color: white;position: relative;}#sk-container-id-1 div.sk-item::before, #sk-container-id-1 div.sk-parallel-item::before {content: \"\";position: absolute;border-left: 1px solid gray;box-sizing: border-box;top: 0;bottom: 0;left: 50%;z-index: -1;}#sk-container-id-1 div.sk-parallel-item {display: flex;flex-direction: column;z-index: 1;position: relative;background-color: white;}#sk-container-id-1 div.sk-parallel-item:first-child::after {align-self: flex-end;width: 50%;}#sk-container-id-1 div.sk-parallel-item:last-child::after {align-self: flex-start;width: 50%;}#sk-container-id-1 div.sk-parallel-item:only-child::after {width: 0;}#sk-container-id-1 div.sk-dashed-wrapped {border: 1px dashed gray;margin: 0 0.4em 0.5em 0.4em;box-sizing: border-box;padding-bottom: 0.4em;background-color: white;}#sk-container-id-1 div.sk-label label {font-family: monospace;font-weight: bold;display: inline-block;line-height: 1.2em;}#sk-container-id-1 div.sk-label-container {text-align: center;}#sk-container-id-1 div.sk-container {/* jupyter's `normalize.less` sets `[hidden] { display: none; }` but bootstrap.min.css set `[hidden] { display: none !important; }` so we also need the `!important` here to be able to override the default hidden behavior on the sphinx rendered scikit-learn.org. See: https://github.com/scikit-learn/scikit-learn/issues/21755 */display: inline-block !important;position: relative;}#sk-container-id-1 div.sk-text-repr-fallback {display: none;}</style><div id=\"sk-container-id-1\" class=\"sk-top-container\"><div class=\"sk-text-repr-fallback\"><pre>Pipeline(steps=[(&#x27;tfidf&#x27;, TfidfVectorizer()), (&#x27;clf&#x27;, MultinomialNB())])</pre><b>In a Jupyter environment, please rerun this cell to show the HTML representation or trust the notebook. <br />On GitHub, the HTML representation is unable to render, please try loading this page with nbviewer.org.</b></div><div class=\"sk-container\" hidden><div class=\"sk-item sk-dashed-wrapped\"><div class=\"sk-label-container\"><div class=\"sk-label sk-toggleable\"><input class=\"sk-toggleable__control sk-hidden--visually\" id=\"sk-estimator-id-1\" type=\"checkbox\" ><label for=\"sk-estimator-id-1\" class=\"sk-toggleable__label sk-toggleable__label-arrow\">Pipeline</label><div class=\"sk-toggleable__content\"><pre>Pipeline(steps=[(&#x27;tfidf&#x27;, TfidfVectorizer()), (&#x27;clf&#x27;, MultinomialNB())])</pre></div></div></div><div class=\"sk-serial\"><div class=\"sk-item\"><div class=\"sk-estimator sk-toggleable\"><input class=\"sk-toggleable__control sk-hidden--visually\" id=\"sk-estimator-id-2\" type=\"checkbox\" ><label for=\"sk-estimator-id-2\" class=\"sk-toggleable__label sk-toggleable__label-arrow\">TfidfVectorizer</label><div class=\"sk-toggleable__content\"><pre>TfidfVectorizer()</pre></div></div></div><div class=\"sk-item\"><div class=\"sk-estimator sk-toggleable\"><input class=\"sk-toggleable__control sk-hidden--visually\" id=\"sk-estimator-id-3\" type=\"checkbox\" ><label for=\"sk-estimator-id-3\" class=\"sk-toggleable__label sk-toggleable__label-arrow\">MultinomialNB</label><div class=\"sk-toggleable__content\"><pre>MultinomialNB()</pre></div></div></div></div></div></div></div>"
            ]
          },
          "metadata": {},
          "execution_count": 24
        }
      ],
      "source": [
        "from sklearn.feature_extraction.text import TfidfVectorizer\n",
        "from sklearn.naive_bayes import MultinomialNB\n",
        "from sklearn.pipeline import Pipeline\n",
        "\n",
        "# Create tokenization and modelling pipeline\n",
        "model_0 = Pipeline([\n",
        "                    (\"tfidf\", TfidfVectorizer()), # convert words to numbers using tfidf\n",
        "                    (\"clf\", MultinomialNB()) # model the text\n",
        "])\n",
        "\n",
        "# Fit the pipeline to the training data\n",
        "model_0.fit(train_sentences, train_labels)"
      ]
    },
    {
      "cell_type": "code",
      "execution_count": 25,
      "id": "99a5f0b0-0fd6-4e12-ba21-a64112fd2805",
      "metadata": {
        "tags": [],
        "colab": {
          "base_uri": "https://localhost:8080/"
        },
        "id": "99a5f0b0-0fd6-4e12-ba21-a64112fd2805",
        "outputId": "2c44f67e-c65f-44e5-92b6-44ab2cebbf4d"
      },
      "outputs": [
        {
          "output_type": "execute_result",
          "data": {
            "text/plain": [
              "0.9105691056910569"
            ]
          },
          "metadata": {},
          "execution_count": 25
        }
      ],
      "source": [
        "# Evaluate our baseline model \n",
        "baseline_score = model_0.score(val_sentences,val_labels)\n",
        "baseline_score"
      ]
    },
    {
      "cell_type": "code",
      "execution_count": 26,
      "id": "566447e1-842a-4cff-b467-ba007e307a4b",
      "metadata": {
        "tags": [],
        "colab": {
          "base_uri": "https://localhost:8080/"
        },
        "id": "566447e1-842a-4cff-b467-ba007e307a4b",
        "outputId": "63b6eded-e6c5-4a5c-eb72-a4859e576fef"
      },
      "outputs": [
        {
          "output_type": "execute_result",
          "data": {
            "text/plain": [
              "array([ True, False,  True,  True,  True, False,  True,  True,  True,\n",
              "        True,  True,  True,  True,  True,  True,  True, False,  True,\n",
              "        True, False])"
            ]
          },
          "metadata": {},
          "execution_count": 26
        }
      ],
      "source": [
        "baseline_preds = model_0.predict(val_sentences)\n",
        "baseline_preds[:20] == val_labels[:20]"
      ]
    },
    {
      "cell_type": "code",
      "execution_count": 27,
      "id": "70430df6-8c9c-43c6-8406-f139ec850de6",
      "metadata": {
        "tags": [],
        "colab": {
          "base_uri": "https://localhost:8080/"
        },
        "id": "70430df6-8c9c-43c6-8406-f139ec850de6",
        "outputId": "08666ce0-1643-412b-a423-431c60130eac"
      },
      "outputs": [
        {
          "output_type": "stream",
          "name": "stderr",
          "text": [
            "/usr/local/lib/python3.10/dist-packages/sklearn/metrics/_classification.py:1344: UndefinedMetricWarning: Precision and F-score are ill-defined and being set to 0.0 in labels with no predicted samples. Use `zero_division` parameter to control this behavior.\n",
            "  _warn_prf(average, modifier, msg_start, len(result))\n"
          ]
        },
        {
          "output_type": "execute_result",
          "data": {
            "text/plain": [
              "{'accuracy': 91.05691056910568,\n",
              " 'precision': 0.8291360962390112,\n",
              " 'recall': 0.9105691056910569,\n",
              " 'f1': 0.8679467220204117}"
            ]
          },
          "metadata": {},
          "execution_count": 27
        }
      ],
      "source": [
        "from sklearn.metrics import accuracy_score, precision_recall_fscore_support\n",
        "\n",
        "def calculate_results(y_true, y_pred):\n",
        "\n",
        "  # Calculate model accuracy \n",
        "  model_accuracy = accuracy_score(y_true, y_pred) * 100\n",
        "  # Calculate precision, recall and f1 score \n",
        "  model_precision, model_recall, model_f1, _ = precision_recall_fscore_support(y_true, y_pred, average='weighted')  \n",
        "  model_results = {'accuracy':model_accuracy,\n",
        "            'precision': model_precision,\n",
        "            'recall': model_recall,\n",
        "            'f1': model_f1}\n",
        "  return model_results\n",
        "\n",
        "# Get baseline results \n",
        "baseline_results = calculate_results(y_true=val_labels,\n",
        "                    y_pred=baseline_preds)\n",
        "baseline_results"
      ]
    },
    {
      "cell_type": "markdown",
      "id": "edbd7d8c-45b9-4cec-afe8-00b6fe35ba8a",
      "metadata": {
        "id": "edbd7d8c-45b9-4cec-afe8-00b6fe35ba8a"
      },
      "source": [
        "### Model 2: Simple deep learning model"
      ]
    },
    {
      "cell_type": "code",
      "execution_count": 28,
      "id": "e1f68ed3-62f1-42b1-92a9-a14f46299b26",
      "metadata": {
        "tags": [],
        "id": "e1f68ed3-62f1-42b1-92a9-a14f46299b26"
      },
      "outputs": [],
      "source": [
        "# One hot encoded labels\n",
        "from tensorflow.keras.utils import to_categorical\n",
        "\n",
        "train_labels_onehot = to_categorical(train_labels)\n",
        "val_labels_onehot = to_categorical(val_labels)"
      ]
    },
    {
      "cell_type": "code",
      "execution_count": 29,
      "id": "3c0b2d91-621e-4807-96d1-c0f0c4e0a105",
      "metadata": {
        "tags": [],
        "colab": {
          "base_uri": "https://localhost:8080/"
        },
        "id": "3c0b2d91-621e-4807-96d1-c0f0c4e0a105",
        "outputId": "473c3798-eef0-4033-d9dc-1fc0cfa1eddd"
      },
      "outputs": [
        {
          "output_type": "execute_result",
          "data": {
            "text/plain": [
              "((4421, 3), (492, 3))"
            ]
          },
          "metadata": {},
          "execution_count": 29
        }
      ],
      "source": [
        "train_labels_onehot.shape, val_labels_onehot.shape"
      ]
    },
    {
      "cell_type": "code",
      "execution_count": 30,
      "id": "b55a6489-b8bc-4d34-b36d-a6ed4f299352",
      "metadata": {
        "tags": [],
        "id": "b55a6489-b8bc-4d34-b36d-a6ed4f299352"
      },
      "outputs": [],
      "source": [
        "import tensorflow as tf\n",
        "\n",
        "inputs = layers.Input(shape=(1,), dtype=tf.string) \n",
        "x = text_vectorizer(inputs) \n",
        "x = embedding(x) \n",
        "x = layers.GlobalAveragePooling1D()(x) \n",
        "outputs = layers.Dense(3, activation='softmax')(x) \n",
        "model_2 = tf.keras.Model(inputs, outputs, name='model_2_simple')\n",
        "\n",
        "model_2.compile(loss='categorical_crossentropy',\n",
        "        optimizer = tf.keras.optimizers.Adam(),\n",
        "        metrics=['accuracy'])"
      ]
    },
    {
      "cell_type": "code",
      "execution_count": 31,
      "id": "6d5ca4c2-40fc-4276-a110-82b8c02a1f52",
      "metadata": {
        "tags": [],
        "colab": {
          "base_uri": "https://localhost:8080/"
        },
        "id": "6d5ca4c2-40fc-4276-a110-82b8c02a1f52",
        "outputId": "c35e0b86-19f6-473d-e549-571858ba8c9a"
      },
      "outputs": [
        {
          "output_type": "stream",
          "name": "stdout",
          "text": [
            "Epoch 1/10\n",
            "139/139 [==============================] - 27s 159ms/step - loss: 0.5562 - accuracy: 0.9000 - val_loss: 0.3237 - val_accuracy: 0.9106\n",
            "Epoch 2/10\n",
            "139/139 [==============================] - 9s 67ms/step - loss: 0.3148 - accuracy: 0.9045 - val_loss: 0.2963 - val_accuracy: 0.9106\n",
            "Epoch 3/10\n",
            "139/139 [==============================] - 3s 25ms/step - loss: 0.2816 - accuracy: 0.9048 - val_loss: 0.2737 - val_accuracy: 0.9106\n",
            "Epoch 4/10\n",
            "139/139 [==============================] - 3s 22ms/step - loss: 0.2507 - accuracy: 0.9111 - val_loss: 0.2518 - val_accuracy: 0.9167\n",
            "Epoch 5/10\n",
            "139/139 [==============================] - 1s 7ms/step - loss: 0.2203 - accuracy: 0.9249 - val_loss: 0.2292 - val_accuracy: 0.9207\n",
            "Epoch 6/10\n",
            "139/139 [==============================] - 1s 10ms/step - loss: 0.1927 - accuracy: 0.9346 - val_loss: 0.2144 - val_accuracy: 0.9329\n",
            "Epoch 7/10\n",
            "139/139 [==============================] - 2s 17ms/step - loss: 0.1705 - accuracy: 0.9410 - val_loss: 0.2064 - val_accuracy: 0.9329\n",
            "Epoch 8/10\n",
            "139/139 [==============================] - 1s 10ms/step - loss: 0.1513 - accuracy: 0.9471 - val_loss: 0.2006 - val_accuracy: 0.9350\n",
            "Epoch 9/10\n",
            "139/139 [==============================] - 1s 10ms/step - loss: 0.1349 - accuracy: 0.9534 - val_loss: 0.2006 - val_accuracy: 0.9350\n",
            "Epoch 10/10\n",
            "139/139 [==============================] - 3s 21ms/step - loss: 0.1200 - accuracy: 0.9568 - val_loss: 0.2008 - val_accuracy: 0.9329\n"
          ]
        }
      ],
      "source": [
        "model_2_history = model_2.fit(train_sentences,\n",
        "                            train_labels_onehot,\n",
        "                            epochs=10,\n",
        "                            validation_data=(val_sentences, val_labels_onehot),\n",
        "                            )"
      ]
    },
    {
      "cell_type": "code",
      "execution_count": 32,
      "id": "5993c966-cf0e-47cf-b527-a69348661489",
      "metadata": {
        "tags": [],
        "colab": {
          "base_uri": "https://localhost:8080/"
        },
        "id": "5993c966-cf0e-47cf-b527-a69348661489",
        "outputId": "d0fe43f7-8d7a-437d-ffdf-b4175b0718a0"
      },
      "outputs": [
        {
          "output_type": "stream",
          "name": "stdout",
          "text": [
            "16/16 [==============================] - 0s 2ms/step\n"
          ]
        },
        {
          "output_type": "stream",
          "name": "stderr",
          "text": [
            "/usr/local/lib/python3.10/dist-packages/sklearn/metrics/_classification.py:1344: UndefinedMetricWarning: Precision and F-score are ill-defined and being set to 0.0 in labels with no predicted samples. Use `zero_division` parameter to control this behavior.\n",
            "  _warn_prf(average, modifier, msg_start, len(result))\n"
          ]
        },
        {
          "output_type": "execute_result",
          "data": {
            "text/plain": [
              "{'accuracy': 92.07317073170732,\n",
              " 'precision': 0.9198455108195334,\n",
              " 'recall': 0.9207317073170732,\n",
              " 'f1': 0.9160428237945747}"
            ]
          },
          "metadata": {},
          "execution_count": 32
        }
      ],
      "source": [
        "model_2_pred_probs = model_2.predict(val_sentences)\n",
        "model_2_preds = tf.squeeze(tf.round(model_2_pred_probs))\n",
        "model_2_results = calculate_results(val_labels_onehot, model_2_preds)\n",
        "model_2_results"
      ]
    },
    {
      "cell_type": "markdown",
      "id": "9bb44b6d-ade5-49ee-9934-902cd6dcf56f",
      "metadata": {
        "id": "9bb44b6d-ade5-49ee-9934-902cd6dcf56f"
      },
      "source": [
        "### Model 3: GRU"
      ]
    },
    {
      "cell_type": "code",
      "execution_count": 33,
      "id": "003d5c8b-6273-4d9a-b670-64f5adb8d739",
      "metadata": {
        "tags": [],
        "colab": {
          "base_uri": "https://localhost:8080/"
        },
        "id": "003d5c8b-6273-4d9a-b670-64f5adb8d739",
        "outputId": "0c32c95e-88f1-495f-b90f-a7b5a4ac072d"
      },
      "outputs": [
        {
          "output_type": "stream",
          "name": "stdout",
          "text": [
            "Epoch 1/10\n",
            "139/139 [==============================] - 21s 126ms/step - loss: 0.2880 - accuracy: 0.9224 - val_loss: 0.2155 - val_accuracy: 0.9329\n",
            "Epoch 2/10\n",
            "139/139 [==============================] - 5s 39ms/step - loss: 0.1167 - accuracy: 0.9602 - val_loss: 0.2274 - val_accuracy: 0.9309\n",
            "Epoch 3/10\n",
            "139/139 [==============================] - 4s 27ms/step - loss: 0.0859 - accuracy: 0.9686 - val_loss: 0.2590 - val_accuracy: 0.9248\n",
            "Epoch 4/10\n",
            "139/139 [==============================] - 3s 20ms/step - loss: 0.0599 - accuracy: 0.9819 - val_loss: 0.2853 - val_accuracy: 0.9268\n",
            "Epoch 5/10\n",
            "139/139 [==============================] - 2s 14ms/step - loss: 0.0348 - accuracy: 0.9905 - val_loss: 0.3665 - val_accuracy: 0.9045\n",
            "Epoch 6/10\n",
            "139/139 [==============================] - 2s 13ms/step - loss: 0.0207 - accuracy: 0.9955 - val_loss: 0.4295 - val_accuracy: 0.9207\n",
            "Epoch 7/10\n",
            "139/139 [==============================] - 2s 11ms/step - loss: 0.0163 - accuracy: 0.9959 - val_loss: 0.3898 - val_accuracy: 0.9228\n",
            "Epoch 8/10\n",
            "139/139 [==============================] - 2s 14ms/step - loss: 0.0065 - accuracy: 0.9986 - val_loss: 0.4202 - val_accuracy: 0.9024\n",
            "Epoch 9/10\n",
            "139/139 [==============================] - 2s 11ms/step - loss: 0.0163 - accuracy: 0.9964 - val_loss: 0.4450 - val_accuracy: 0.9167\n",
            "Epoch 10/10\n",
            "139/139 [==============================] - 2s 11ms/step - loss: 0.0021 - accuracy: 0.9995 - val_loss: 0.4616 - val_accuracy: 0.9187\n"
          ]
        }
      ],
      "source": [
        "inputs=layers.Input(shape=(1,), dtype=tf.string)\n",
        "x = text_vectorizer(inputs)\n",
        "x = embedding(x)\n",
        "x = layers.GRU(64)(x)\n",
        "outputs = layers.Dense(3, activation='softmax')(x)\n",
        "model_3 = tf.keras.Model(inputs, outputs, name='model_3_GRU')\n",
        "\n",
        "model_3.compile(loss='categorical_crossentropy',\n",
        "        optimizer = tf.keras.optimizers.Adam(),\n",
        "        metrics=['accuracy'])\n",
        "\n",
        "model_3_history = model_3.fit(train_sentences,\n",
        "                            train_labels_onehot,\n",
        "                            epochs=10,\n",
        "                            validation_data=(val_sentences, val_labels_onehot),\n",
        "                            )"
      ]
    },
    {
      "cell_type": "code",
      "execution_count": 34,
      "id": "93aec347-808d-44d0-b42b-95e74c48da01",
      "metadata": {
        "tags": [],
        "colab": {
          "base_uri": "https://localhost:8080/"
        },
        "id": "93aec347-808d-44d0-b42b-95e74c48da01",
        "outputId": "d33da160-b446-409a-a47e-ef2f8e457406"
      },
      "outputs": [
        {
          "output_type": "stream",
          "name": "stdout",
          "text": [
            "16/16 [==============================] - 0s 3ms/step\n"
          ]
        },
        {
          "output_type": "execute_result",
          "data": {
            "text/plain": [
              "{'accuracy': 91.869918699187,\n",
              " 'precision': 0.9149595062536409,\n",
              " 'recall': 0.9186991869918699,\n",
              " 'f1': 0.9167021054825933}"
            ]
          },
          "metadata": {},
          "execution_count": 34
        }
      ],
      "source": [
        "model_3_pred_probs = model_3.predict(val_sentences)\n",
        "model_3_preds = tf.squeeze(tf.round(model_3_pred_probs))\n",
        "model_3_results = calculate_results(val_labels_onehot, model_3_preds)\n",
        "model_3_results"
      ]
    },
    {
      "cell_type": "markdown",
      "id": "d1d1eb98-9f00-4c4e-a0a5-6c18cefb1ca2",
      "metadata": {
        "id": "d1d1eb98-9f00-4c4e-a0a5-6c18cefb1ca2"
      },
      "source": [
        "### Model 4: Bidirectional LSTM"
      ]
    },
    {
      "cell_type": "code",
      "execution_count": 35,
      "id": "ecb7b2f4-9ba0-491f-8e3e-46d7f93c73ee",
      "metadata": {
        "tags": [],
        "colab": {
          "base_uri": "https://localhost:8080/"
        },
        "id": "ecb7b2f4-9ba0-491f-8e3e-46d7f93c73ee",
        "outputId": "98174ebe-9ea5-4e10-8860-c6dc0d3de9d1"
      },
      "outputs": [
        {
          "output_type": "stream",
          "name": "stdout",
          "text": [
            "Epoch 1/10\n",
            "139/139 [==============================] - 18s 100ms/step - loss: 0.1490 - accuracy: 0.9550 - val_loss: 0.2545 - val_accuracy: 0.9289\n",
            "Epoch 2/10\n",
            "139/139 [==============================] - 7s 53ms/step - loss: 0.0378 - accuracy: 0.9887 - val_loss: 0.3570 - val_accuracy: 0.9167\n",
            "Epoch 3/10\n",
            "139/139 [==============================] - 4s 29ms/step - loss: 0.0132 - accuracy: 0.9971 - val_loss: 0.4731 - val_accuracy: 0.9146\n",
            "Epoch 4/10\n",
            "139/139 [==============================] - 2s 16ms/step - loss: 0.0052 - accuracy: 0.9984 - val_loss: 0.5321 - val_accuracy: 0.9187\n",
            "Epoch 5/10\n",
            "139/139 [==============================] - 3s 19ms/step - loss: 0.0215 - accuracy: 0.9923 - val_loss: 0.3753 - val_accuracy: 0.9207\n",
            "Epoch 6/10\n",
            "139/139 [==============================] - 3s 20ms/step - loss: 0.0075 - accuracy: 0.9982 - val_loss: 0.5296 - val_accuracy: 0.9045\n",
            "Epoch 7/10\n",
            "139/139 [==============================] - 2s 12ms/step - loss: 0.0062 - accuracy: 0.9986 - val_loss: 0.5065 - val_accuracy: 0.9106\n",
            "Epoch 8/10\n",
            "139/139 [==============================] - 2s 11ms/step - loss: 0.0029 - accuracy: 0.9995 - val_loss: 0.5277 - val_accuracy: 0.9106\n",
            "Epoch 9/10\n",
            "139/139 [==============================] - 1s 11ms/step - loss: 5.2042e-04 - accuracy: 1.0000 - val_loss: 0.5531 - val_accuracy: 0.9167\n",
            "Epoch 10/10\n",
            "139/139 [==============================] - 2s 14ms/step - loss: 3.3342e-04 - accuracy: 1.0000 - val_loss: 0.6036 - val_accuracy: 0.9146\n"
          ]
        }
      ],
      "source": [
        "from tensorflow.keras import layers\n",
        "inputs = layers.Input(shape=(1,), dtype='string')\n",
        "x = text_vectorizer(inputs)\n",
        "x = embedding(x)\n",
        "x = layers.Bidirectional(layers.LSTM(64))(x)\n",
        "outputs = layers.Dense(3, activation='softmax')(x)\n",
        "model_4 = tf.keras.Model(inputs, outputs, name='model_4_bidirectional')\n",
        "\n",
        "model_4.compile(loss='categorical_crossentropy',\n",
        "        optimizer = tf.keras.optimizers.Adam(),\n",
        "        metrics=['accuracy'])\n",
        "\n",
        "model_4_history = model_4.fit(train_sentences,\n",
        "                            train_labels_onehot,\n",
        "                            epochs=10,\n",
        "                            validation_data=(val_sentences, val_labels_onehot),\n",
        "                            )"
      ]
    },
    {
      "cell_type": "code",
      "execution_count": 36,
      "id": "ea90dff8-15d5-47ef-91c2-56d103c64da0",
      "metadata": {
        "tags": [],
        "colab": {
          "base_uri": "https://localhost:8080/"
        },
        "id": "ea90dff8-15d5-47ef-91c2-56d103c64da0",
        "outputId": "f9cc3b90-8eaa-43f3-b946-58b43ad44de7"
      },
      "outputs": [
        {
          "output_type": "stream",
          "name": "stdout",
          "text": [
            "16/16 [==============================] - 1s 4ms/step\n"
          ]
        },
        {
          "output_type": "execute_result",
          "data": {
            "text/plain": [
              "{'accuracy': 91.26016260162602,\n",
              " 'precision': 0.9118682835099139,\n",
              " 'recall': 0.9126016260162602,\n",
              " 'f1': 0.9116940719087873}"
            ]
          },
          "metadata": {},
          "execution_count": 36
        }
      ],
      "source": [
        "model_4_pred_probs = model_4.predict(val_sentences)\n",
        "model_4_preds = tf.squeeze(tf.round(model_4_pred_probs))\n",
        "model_4_results = calculate_results(val_labels_onehot, model_4_preds)\n",
        "model_4_results"
      ]
    },
    {
      "cell_type": "markdown",
      "id": "92a210de-e627-4870-8c26-1384c2b82217",
      "metadata": {
        "id": "92a210de-e627-4870-8c26-1384c2b82217"
      },
      "source": [
        "### Model 5 Conv 1D"
      ]
    },
    {
      "cell_type": "code",
      "execution_count": 37,
      "id": "15e2a1e3-3ab3-40db-b290-2809153ed310",
      "metadata": {
        "tags": [],
        "colab": {
          "base_uri": "https://localhost:8080/"
        },
        "id": "15e2a1e3-3ab3-40db-b290-2809153ed310",
        "outputId": "b39bfa2c-c37c-47e1-ddb4-725204c72575"
      },
      "outputs": [
        {
          "output_type": "stream",
          "name": "stdout",
          "text": [
            "Epoch 1/10\n",
            "139/139 [==============================] - 20s 97ms/step - loss: 0.1362 - accuracy: 0.9518 - val_loss: 0.2543 - val_accuracy: 0.9289\n",
            "Epoch 2/10\n",
            "139/139 [==============================] - 7s 47ms/step - loss: 0.0463 - accuracy: 0.9871 - val_loss: 0.2771 - val_accuracy: 0.9228\n",
            "Epoch 3/10\n",
            "139/139 [==============================] - 2s 15ms/step - loss: 0.0201 - accuracy: 0.9966 - val_loss: 0.3142 - val_accuracy: 0.9207\n",
            "Epoch 4/10\n",
            "139/139 [==============================] - 1s 11ms/step - loss: 0.0099 - accuracy: 0.9986 - val_loss: 0.3320 - val_accuracy: 0.9248\n",
            "Epoch 5/10\n",
            "139/139 [==============================] - 1s 8ms/step - loss: 0.0044 - accuracy: 0.9998 - val_loss: 0.3615 - val_accuracy: 0.9289\n",
            "Epoch 6/10\n",
            "139/139 [==============================] - 1s 10ms/step - loss: 0.0026 - accuracy: 1.0000 - val_loss: 0.3797 - val_accuracy: 0.9289\n",
            "Epoch 7/10\n",
            "139/139 [==============================] - 1s 9ms/step - loss: 0.0017 - accuracy: 1.0000 - val_loss: 0.3962 - val_accuracy: 0.9289\n",
            "Epoch 8/10\n",
            "139/139 [==============================] - 1s 9ms/step - loss: 0.0012 - accuracy: 1.0000 - val_loss: 0.4103 - val_accuracy: 0.9309\n",
            "Epoch 9/10\n",
            "139/139 [==============================] - 1s 10ms/step - loss: 9.2438e-04 - accuracy: 1.0000 - val_loss: 0.4173 - val_accuracy: 0.9309\n",
            "Epoch 10/10\n",
            "139/139 [==============================] - 2s 12ms/step - loss: 7.1196e-04 - accuracy: 1.0000 - val_loss: 0.4280 - val_accuracy: 0.9309\n"
          ]
        }
      ],
      "source": [
        "inputs = layers.Input(shape=(1,), dtype='string')\n",
        "x = text_vectorizer(inputs)\n",
        "x = embedding(x)\n",
        "x = layers.Conv1D(filters=64, \n",
        "          kernel_size=5,\n",
        "          activation='relu',\n",
        "          padding='valid')(x)\n",
        "x = layers.GlobalMaxPool1D()(x)\n",
        "outputs = layers.Dense(3, activation='softmax')(x)\n",
        "model_5 = tf.keras.Model(inputs, outputs, name='model_5_Conv1D')\n",
        "\n",
        "model_5.compile(loss='categorical_crossentropy',\n",
        "        optimizer=tf.keras.optimizers.Adam(),\n",
        "        metrics=['accuracy'])\n",
        "\n",
        "model_5_history = model_5.fit(train_sentences,\n",
        "                            train_labels_onehot,\n",
        "                            epochs=10,\n",
        "                            validation_data=(val_sentences, val_labels_onehot),\n",
        "                            )"
      ]
    },
    {
      "cell_type": "code",
      "execution_count": 38,
      "id": "7c48450e-3a60-4557-a6fa-edbc661426cb",
      "metadata": {
        "tags": [],
        "colab": {
          "base_uri": "https://localhost:8080/"
        },
        "id": "7c48450e-3a60-4557-a6fa-edbc661426cb",
        "outputId": "a20cfdac-a136-4f02-dcd0-1699c30ad3be"
      },
      "outputs": [
        {
          "output_type": "stream",
          "name": "stdout",
          "text": [
            "16/16 [==============================] - 0s 4ms/step\n"
          ]
        },
        {
          "output_type": "execute_result",
          "data": {
            "text/plain": [
              "{'accuracy': 92.88617886178862,\n",
              " 'precision': 0.9148885812002224,\n",
              " 'recall': 0.9288617886178862,\n",
              " 'f1': 0.9215987813851648}"
            ]
          },
          "metadata": {},
          "execution_count": 38
        }
      ],
      "source": [
        "model_5_pred_probs = model_5.predict(val_sentences)\n",
        "model_5_preds = tf.squeeze(tf.round(model_5_pred_probs))\n",
        "model_5_results = calculate_results(val_labels_onehot, model_5_preds)\n",
        "model_5_results"
      ]
    },
    {
      "cell_type": "markdown",
      "id": "7717ce8d-a195-4015-889a-bb1a58017c21",
      "metadata": {
        "id": "7717ce8d-a195-4015-889a-bb1a58017c21"
      },
      "source": [
        "### Model 6: USE (Universal Sentence Encoder)"
      ]
    },
    {
      "cell_type": "code",
      "execution_count": 39,
      "id": "6d0a6f57-cebb-4783-9c35-9d45b68dd206",
      "metadata": {
        "tags": [],
        "id": "6d0a6f57-cebb-4783-9c35-9d45b68dd206"
      },
      "outputs": [],
      "source": [
        "import tensorflow_hub as hub\n",
        "\n",
        "sentence_encoder_layer = hub.KerasLayer('https://tfhub.dev/google/universal-sentence-encoder/4',\n",
        "                                        input_shape=[],\n",
        "                                        dtype=tf.string,\n",
        "                                        trainable=False,\n",
        "                                        name='USE')"
      ]
    },
    {
      "cell_type": "code",
      "execution_count": 40,
      "id": "eb617681-51ee-462d-9951-dc0bcd5ffb17",
      "metadata": {
        "tags": [],
        "colab": {
          "base_uri": "https://localhost:8080/"
        },
        "id": "eb617681-51ee-462d-9951-dc0bcd5ffb17",
        "outputId": "44aa00ed-b275-495b-9b0a-2925011113d5"
      },
      "outputs": [
        {
          "output_type": "stream",
          "name": "stdout",
          "text": [
            "Epoch 1/10\n",
            "139/139 [==============================] - 8s 30ms/step - loss: 0.4333 - accuracy: 0.8946 - val_loss: 0.2621 - val_accuracy: 0.9126\n",
            "Epoch 2/10\n",
            "139/139 [==============================] - 3s 19ms/step - loss: 0.2481 - accuracy: 0.9204 - val_loss: 0.2212 - val_accuracy: 0.9248\n",
            "Epoch 3/10\n",
            "139/139 [==============================] - 3s 18ms/step - loss: 0.2179 - accuracy: 0.9310 - val_loss: 0.2091 - val_accuracy: 0.9268\n",
            "Epoch 4/10\n",
            "139/139 [==============================] - 3s 18ms/step - loss: 0.2031 - accuracy: 0.9358 - val_loss: 0.2097 - val_accuracy: 0.9228\n",
            "Epoch 5/10\n",
            "139/139 [==============================] - 5s 34ms/step - loss: 0.1929 - accuracy: 0.9385 - val_loss: 0.2068 - val_accuracy: 0.9228\n",
            "Epoch 6/10\n",
            "139/139 [==============================] - 3s 18ms/step - loss: 0.1846 - accuracy: 0.9412 - val_loss: 0.2042 - val_accuracy: 0.9289\n",
            "Epoch 7/10\n",
            "139/139 [==============================] - 3s 19ms/step - loss: 0.1786 - accuracy: 0.9419 - val_loss: 0.2012 - val_accuracy: 0.9309\n",
            "Epoch 8/10\n",
            "139/139 [==============================] - 3s 19ms/step - loss: 0.1726 - accuracy: 0.9439 - val_loss: 0.1981 - val_accuracy: 0.9309\n",
            "Epoch 9/10\n",
            "139/139 [==============================] - 4s 26ms/step - loss: 0.1681 - accuracy: 0.9464 - val_loss: 0.2049 - val_accuracy: 0.9309\n",
            "Epoch 10/10\n",
            "139/139 [==============================] - 3s 19ms/step - loss: 0.1632 - accuracy: 0.9466 - val_loss: 0.2060 - val_accuracy: 0.9289\n"
          ]
        }
      ],
      "source": [
        "model_6 = tf.keras.Sequential([\n",
        "    sentence_encoder_layer,\n",
        "    layers.Dense(64, activation='relu'),\n",
        "    layers.Dense(3, activation='softmax') \n",
        "], name='model_6_USE')\n",
        "\n",
        "model_6.compile(loss='categorical_crossentropy',\n",
        "        optimizer=tf.keras.optimizers.Adam(),\n",
        "        metrics=['accuracy'])\n",
        "\n",
        "model_6_history = model_6.fit(train_sentences,\n",
        "                            train_labels_onehot,\n",
        "                            epochs=10,\n",
        "                            validation_data=(val_sentences, val_labels_onehot),\n",
        "                            )"
      ]
    },
    {
      "cell_type": "code",
      "execution_count": 41,
      "id": "8a957833-093b-4452-a1b1-325b3e9165a9",
      "metadata": {
        "tags": [],
        "colab": {
          "base_uri": "https://localhost:8080/"
        },
        "id": "8a957833-093b-4452-a1b1-325b3e9165a9",
        "outputId": "0520d3b9-22f5-4d98-b454-cfa2665973dc"
      },
      "outputs": [
        {
          "output_type": "stream",
          "name": "stdout",
          "text": [
            "16/16 [==============================] - 1s 15ms/step\n"
          ]
        },
        {
          "output_type": "stream",
          "name": "stderr",
          "text": [
            "/usr/local/lib/python3.10/dist-packages/sklearn/metrics/_classification.py:1344: UndefinedMetricWarning: Precision and F-score are ill-defined and being set to 0.0 in labels with no predicted samples. Use `zero_division` parameter to control this behavior.\n",
            "  _warn_prf(average, modifier, msg_start, len(result))\n"
          ]
        },
        {
          "output_type": "execute_result",
          "data": {
            "text/plain": [
              "{'accuracy': 91.66666666666666,\n",
              " 'precision': 0.9235789955302152,\n",
              " 'recall': 0.9166666666666666,\n",
              " 'f1': 0.9195829333826766}"
            ]
          },
          "metadata": {},
          "execution_count": 41
        }
      ],
      "source": [
        "model_6_pred_probs = model_6.predict(val_sentences)\n",
        "model_6_preds = tf.squeeze(tf.round(model_6_pred_probs))\n",
        "model_6_results = calculate_results(val_labels_onehot, model_6_preds)\n",
        "model_6_results"
      ]
    },
    {
      "cell_type": "markdown",
      "source": [
        "## Comparing model results"
      ],
      "metadata": {
        "id": "6Yk60fhhQbl_"
      },
      "id": "6Yk60fhhQbl_"
    },
    {
      "cell_type": "code",
      "source": [
        "all_model_results = pd.DataFrame({'1_baseline':baseline_results,\n",
        "                  '2_simple_dense':model_2_results,\n",
        "                  '3_gru': model_3_results,\n",
        "                  '4_bidirectional': model_4_results,\n",
        "                  '5_conv1d':model_5_results,\n",
        "                  '6_tf_hub_use_encoder':model_6_results})\n",
        "all_model_results = all_model_results.transpose()"
      ],
      "metadata": {
        "id": "ES-uwHt7QitB"
      },
      "id": "ES-uwHt7QitB",
      "execution_count": 42,
      "outputs": []
    },
    {
      "cell_type": "code",
      "source": [
        "all_model_results['accuracy'] = all_model_results['accuracy']/100\n",
        "all_model_results"
      ],
      "metadata": {
        "colab": {
          "base_uri": "https://localhost:8080/",
          "height": 238
        },
        "id": "n4jWBPoTRA1S",
        "outputId": "767d1b2c-8e4f-42af-cb53-58ecc5851ce7"
      },
      "id": "n4jWBPoTRA1S",
      "execution_count": 43,
      "outputs": [
        {
          "output_type": "execute_result",
          "data": {
            "text/plain": [
              "                      accuracy  precision    recall        f1\n",
              "1_baseline            0.910569   0.829136  0.910569  0.867947\n",
              "2_simple_dense        0.920732   0.919846  0.920732  0.916043\n",
              "3_gru                 0.918699   0.914960  0.918699  0.916702\n",
              "4_bidirectional       0.912602   0.911868  0.912602  0.911694\n",
              "5_conv1d              0.928862   0.914889  0.928862  0.921599\n",
              "6_tf_hub_use_encoder  0.916667   0.923579  0.916667  0.919583"
            ],
            "text/html": [
              "\n",
              "  <div id=\"df-65dc84ef-7a50-4c3c-9f06-03a07ff4695e\">\n",
              "    <div class=\"colab-df-container\">\n",
              "      <div>\n",
              "<style scoped>\n",
              "    .dataframe tbody tr th:only-of-type {\n",
              "        vertical-align: middle;\n",
              "    }\n",
              "\n",
              "    .dataframe tbody tr th {\n",
              "        vertical-align: top;\n",
              "    }\n",
              "\n",
              "    .dataframe thead th {\n",
              "        text-align: right;\n",
              "    }\n",
              "</style>\n",
              "<table border=\"1\" class=\"dataframe\">\n",
              "  <thead>\n",
              "    <tr style=\"text-align: right;\">\n",
              "      <th></th>\n",
              "      <th>accuracy</th>\n",
              "      <th>precision</th>\n",
              "      <th>recall</th>\n",
              "      <th>f1</th>\n",
              "    </tr>\n",
              "  </thead>\n",
              "  <tbody>\n",
              "    <tr>\n",
              "      <th>1_baseline</th>\n",
              "      <td>0.910569</td>\n",
              "      <td>0.829136</td>\n",
              "      <td>0.910569</td>\n",
              "      <td>0.867947</td>\n",
              "    </tr>\n",
              "    <tr>\n",
              "      <th>2_simple_dense</th>\n",
              "      <td>0.920732</td>\n",
              "      <td>0.919846</td>\n",
              "      <td>0.920732</td>\n",
              "      <td>0.916043</td>\n",
              "    </tr>\n",
              "    <tr>\n",
              "      <th>3_gru</th>\n",
              "      <td>0.918699</td>\n",
              "      <td>0.914960</td>\n",
              "      <td>0.918699</td>\n",
              "      <td>0.916702</td>\n",
              "    </tr>\n",
              "    <tr>\n",
              "      <th>4_bidirectional</th>\n",
              "      <td>0.912602</td>\n",
              "      <td>0.911868</td>\n",
              "      <td>0.912602</td>\n",
              "      <td>0.911694</td>\n",
              "    </tr>\n",
              "    <tr>\n",
              "      <th>5_conv1d</th>\n",
              "      <td>0.928862</td>\n",
              "      <td>0.914889</td>\n",
              "      <td>0.928862</td>\n",
              "      <td>0.921599</td>\n",
              "    </tr>\n",
              "    <tr>\n",
              "      <th>6_tf_hub_use_encoder</th>\n",
              "      <td>0.916667</td>\n",
              "      <td>0.923579</td>\n",
              "      <td>0.916667</td>\n",
              "      <td>0.919583</td>\n",
              "    </tr>\n",
              "  </tbody>\n",
              "</table>\n",
              "</div>\n",
              "      <button class=\"colab-df-convert\" onclick=\"convertToInteractive('df-65dc84ef-7a50-4c3c-9f06-03a07ff4695e')\"\n",
              "              title=\"Convert this dataframe to an interactive table.\"\n",
              "              style=\"display:none;\">\n",
              "        \n",
              "  <svg xmlns=\"http://www.w3.org/2000/svg\" height=\"24px\"viewBox=\"0 0 24 24\"\n",
              "       width=\"24px\">\n",
              "    <path d=\"M0 0h24v24H0V0z\" fill=\"none\"/>\n",
              "    <path d=\"M18.56 5.44l.94 2.06.94-2.06 2.06-.94-2.06-.94-.94-2.06-.94 2.06-2.06.94zm-11 1L8.5 8.5l.94-2.06 2.06-.94-2.06-.94L8.5 2.5l-.94 2.06-2.06.94zm10 10l.94 2.06.94-2.06 2.06-.94-2.06-.94-.94-2.06-.94 2.06-2.06.94z\"/><path d=\"M17.41 7.96l-1.37-1.37c-.4-.4-.92-.59-1.43-.59-.52 0-1.04.2-1.43.59L10.3 9.45l-7.72 7.72c-.78.78-.78 2.05 0 2.83L4 21.41c.39.39.9.59 1.41.59.51 0 1.02-.2 1.41-.59l7.78-7.78 2.81-2.81c.8-.78.8-2.07 0-2.86zM5.41 20L4 18.59l7.72-7.72 1.47 1.35L5.41 20z\"/>\n",
              "  </svg>\n",
              "      </button>\n",
              "      \n",
              "  <style>\n",
              "    .colab-df-container {\n",
              "      display:flex;\n",
              "      flex-wrap:wrap;\n",
              "      gap: 12px;\n",
              "    }\n",
              "\n",
              "    .colab-df-convert {\n",
              "      background-color: #E8F0FE;\n",
              "      border: none;\n",
              "      border-radius: 50%;\n",
              "      cursor: pointer;\n",
              "      display: none;\n",
              "      fill: #1967D2;\n",
              "      height: 32px;\n",
              "      padding: 0 0 0 0;\n",
              "      width: 32px;\n",
              "    }\n",
              "\n",
              "    .colab-df-convert:hover {\n",
              "      background-color: #E2EBFA;\n",
              "      box-shadow: 0px 1px 2px rgba(60, 64, 67, 0.3), 0px 1px 3px 1px rgba(60, 64, 67, 0.15);\n",
              "      fill: #174EA6;\n",
              "    }\n",
              "\n",
              "    [theme=dark] .colab-df-convert {\n",
              "      background-color: #3B4455;\n",
              "      fill: #D2E3FC;\n",
              "    }\n",
              "\n",
              "    [theme=dark] .colab-df-convert:hover {\n",
              "      background-color: #434B5C;\n",
              "      box-shadow: 0px 1px 3px 1px rgba(0, 0, 0, 0.15);\n",
              "      filter: drop-shadow(0px 1px 2px rgba(0, 0, 0, 0.3));\n",
              "      fill: #FFFFFF;\n",
              "    }\n",
              "  </style>\n",
              "\n",
              "      <script>\n",
              "        const buttonEl =\n",
              "          document.querySelector('#df-65dc84ef-7a50-4c3c-9f06-03a07ff4695e button.colab-df-convert');\n",
              "        buttonEl.style.display =\n",
              "          google.colab.kernel.accessAllowed ? 'block' : 'none';\n",
              "\n",
              "        async function convertToInteractive(key) {\n",
              "          const element = document.querySelector('#df-65dc84ef-7a50-4c3c-9f06-03a07ff4695e');\n",
              "          const dataTable =\n",
              "            await google.colab.kernel.invokeFunction('convertToInteractive',\n",
              "                                                     [key], {});\n",
              "          if (!dataTable) return;\n",
              "\n",
              "          const docLinkHtml = 'Like what you see? Visit the ' +\n",
              "            '<a target=\"_blank\" href=https://colab.research.google.com/notebooks/data_table.ipynb>data table notebook</a>'\n",
              "            + ' to learn more about interactive tables.';\n",
              "          element.innerHTML = '';\n",
              "          dataTable['output_type'] = 'display_data';\n",
              "          await google.colab.output.renderOutput(dataTable, element);\n",
              "          const docLink = document.createElement('div');\n",
              "          docLink.innerHTML = docLinkHtml;\n",
              "          element.appendChild(docLink);\n",
              "        }\n",
              "      </script>\n",
              "    </div>\n",
              "  </div>\n",
              "  "
            ]
          },
          "metadata": {},
          "execution_count": 43
        }
      ]
    },
    {
      "cell_type": "code",
      "source": [
        "all_model_results.plot(kind='bar',\n",
        "            figsize=(10,7)).legend(bbox_to_anchor=(1.0, 1.0))"
      ],
      "metadata": {
        "colab": {
          "base_uri": "https://localhost:8080/",
          "height": 758
        },
        "id": "A36BS5GWRE2N",
        "outputId": "1b815fbb-61a0-446a-c661-662b1a2fa253"
      },
      "id": "A36BS5GWRE2N",
      "execution_count": 44,
      "outputs": [
        {
          "output_type": "execute_result",
          "data": {
            "text/plain": [
              "<matplotlib.legend.Legend at 0x7f948afb5db0>"
            ]
          },
          "metadata": {},
          "execution_count": 44
        },
        {
          "output_type": "display_data",
          "data": {
            "text/plain": [
              "<Figure size 1000x700 with 1 Axes>"
            ],
            "image/png": "[encoded data removed]"
          },
          "metadata": {}
        }
      ]
    },
    {
      "cell_type": "code",
      "source": [
        "all_model_results.sort_values('f1', ascending=False)['f1'].plot(kind='bar',figsize=(10,7))"
      ],
      "metadata": {
        "colab": {
          "base_uri": "https://localhost:8080/",
          "height": 758
        },
        "id": "t06HYehCRKWA",
        "outputId": "e86c8445-94cc-478e-bc1d-82c58b7fd4b7"
      },
      "id": "t06HYehCRKWA",
      "execution_count": 45,
      "outputs": [
        {
          "output_type": "execute_result",
          "data": {
            "text/plain": [
              "<Axes: >"
            ]
          },
          "metadata": {},
          "execution_count": 45
        },
        {
          "output_type": "display_data",
          "data": {
            "text/plain": [
              "<Figure size 1000x700 with 1 Axes>"
            ],
            "image/png": "[encoded data removed]"
          },
          "metadata": {}
        }
      ]
    },
    {
      "cell_type": "markdown",
      "source": [
        "## Make prediction with the best perform model"
      ],
      "metadata": {
        "id": "yBu2h3beSAVd"
      },
      "id": "yBu2h3beSAVd"
    },
    {
      "cell_type": "code",
      "source": [
        "import numpy as np\n",
        "\n",
        "# Number of samples to pick\n",
        "num_samples = 5\n",
        "\n",
        "# Choose random indices\n",
        "random_indices = np.random.choice(len(val_sentences), size=num_samples, replace=False)\n",
        "\n",
        "# Pick the corresponding sentences and labels\n",
        "random_sentences = val_sentences[random_indices]\n",
        "random_labels = val_labels[random_indices]\n",
        "\n",
        "# Make predictions\n",
        "random_predictions = model_5.predict(random_sentences)\n",
        "\n",
        "# Convert prediction probabilities to labels\n",
        "random_predictions_labels = np.argmax(random_predictions, axis=1)\n",
        "\n",
        "# Print the sentences, predicted labels, and true labels\n",
        "for sentence, pred_label, true_label in zip(random_sentences, random_predictions_labels, random_labels):\n",
        "    print(\"Sentence: \", sentence)\n",
        "    print(\"Predicted label: \", \"Positive\" if pred_label == 2 else (\"Neutral\" if pred_label == 1 else \"Negative\"))\n",
        "    print(\"True label: \", \"Positive\" if true_label == 2 else (\"Neutral\" if true_label == 1 else \"Negative\"))\n",
        "    print(\"\\n\")\n"
      ],
      "metadata": {
        "colab": {
          "base_uri": "https://localhost:8080/"
        },
        "id": "o7xVARVzSEAf",
        "outputId": "58456ef5-84df-4eae-c71e-19256aa6ac34"
      },
      "id": "o7xVARVzSEAf",
      "execution_count": 53,
      "outputs": [
        {
          "output_type": "stream",
          "name": "stdout",
          "text": [
            "1/1 [==============================] - 0s 25ms/step\n",
            "Sentence:  Would recommend. I have 2 of those, one in phone one in tablet. Probably i will get one more for GF.\n",
            "Predicted label:  Positive\n",
            "True label:  Positive\n",
            "\n",
            "\n",
            "Sentence:  I bought this for a friend of mine to put some videos on it.  Initially, when plugged into the computer, we couldn't find the storage in the directory.  However, after finding a micro sd to usb adapter...bingo!  Worked like a charm after that.  Install the videos, plugged the card in the phone, and we were off to the races.Not sure if we needed the adapter, but we couldn't get the computer to recognize it.  We also used a Linux O/S.  Go figure.\n",
            "Predicted label:  Positive\n",
            "True label:  Positive\n",
            "\n",
            "\n",
            "Sentence:  I bought this on black friday last year and took a chance on it. What chance u say? I read some reviews that this card just actually STOPPED working for no reason and not due to abuse or misuse. I had this card in my Acer Iconia A500 and it just STOPPED WORKING! Even my computer doesnt recognize it. WTF Sandisk?? This is an expensive part for this to occur. DO NOT BUY OR IF U DO, BE CAREFUL WHAT U STORE ON IT! I only had music and movies on mine so NBD. But what if u had this in your phone with valuable pictures?\n",
            "Predicted label:  Negative\n",
            "True label:  Negative\n",
            "\n",
            "\n",
            "Sentence:  Bought this for my Samsung Exhibit which has a small internal memory so I could move Google translate onto it. That did not work out since almost all apps wont transfer over to the memory card. But now I can take a ton of photos/videos and store music. No problem with it so far.\n",
            "Predicted label:  Positive\n",
            "True label:  Positive\n",
            "\n",
            "\n",
            "Sentence:  Works exactly like it is supposed to. I can't wait however for a 128 GB card to come out and blow this out of the water.\n",
            "Predicted label:  Neutral\n",
            "True label:  Positive\n",
            "\n",
            "\n"
          ]
        }
      ]
    }
  ],
  "metadata": {
    "kernelspec": {
      "display_name": "Python 3",
      "name": "python3"
    },
    "language_info": {
      "name": "python"
    },
    "colab": {
      "provenance": [],
      "gpuType": "T4"
    },
    "accelerator": "GPU",
    "gpuClass": "standard"
  },
  "nbformat": 4,
  "nbformat_minor": 5
}